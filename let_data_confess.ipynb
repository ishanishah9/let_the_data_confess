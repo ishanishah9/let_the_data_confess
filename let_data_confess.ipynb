{
  "cells": [
    {
      "cell_type": "code",
      "execution_count": 131,
      "metadata": {
        "colab": {
          "base_uri": "https://localhost:8080/"
        },
        "id": "qSHL7u3vybhu",
        "outputId": "c81f9a91-5dd6-4225-9a12-e72d5b9c1743"
      },
      "outputs": [
        {
          "output_type": "stream",
          "name": "stdout",
          "text": [
            "Drive already mounted at /content/drive; to attempt to forcibly remount, call drive.mount(\"/content/drive\", force_remount=True).\n"
          ]
        }
      ],
      "source": [
        "from google.colab import drive\n",
        "drive.mount('/content/drive')"
      ]
    },
    {
      "cell_type": "code",
      "execution_count": 132,
      "metadata": {
        "id": "VfKjHocSyM_s"
      },
      "outputs": [],
      "source": [
        "import pandas as pd\n",
        "import numpy as np\n",
        "from sklearn.model_selection import KFold,GridSearchCV,RepeatedKFold,cross_val_score\n",
        "from sklearn.linear_model import LinearRegression\n",
        "from sklearn.model_selection import train_test_split\n",
        "from sklearn.metrics import mean_squared_error, r2_score\n",
        "import seaborn as sns\n",
        "import matplotlib.pyplot as plt\n",
        "from sklearn.ensemble import RandomForestRegressor\n",
        "from sklearn.svm import LinearSVR\n",
        "from xgboost import XGBRegressor\n",
        "from sklearn.svm import SVR\n",
        "from sklearn.linear_model import SGDRegressor\n",
        "from sklearn.pipeline import make_pipeline\n",
        "from sklearn.preprocessing import StandardScaler\n",
        "from keras.models import Sequential\n",
        "from keras.layers import Dense"
      ]
    },
    {
      "cell_type": "code",
      "execution_count": 192,
      "metadata": {
        "id": "SAcu4CXMyP6l"
      },
      "outputs": [],
      "source": [
        "data=pd.read_csv('/content/drive/MyDrive/let data confess/cancer_reg (1) (1).csv',encoding='ISO-8859-1')"
      ]
    },
    {
      "cell_type": "code",
      "execution_count": 134,
      "metadata": {
        "colab": {
          "base_uri": "https://localhost:8080/",
          "height": 438
        },
        "id": "SH3ZU-lMyzh2",
        "outputId": "597a8ef1-6ee6-4113-be2c-0e8a95c64087"
      },
      "outputs": [
        {
          "output_type": "execute_result",
          "data": {
            "text/html": [
              "\n",
              "  <div id=\"df-18669de8-790a-443a-83b1-b9ebb6dc45e1\">\n",
              "    <div class=\"colab-df-container\">\n",
              "      <div>\n",
              "<style scoped>\n",
              "    .dataframe tbody tr th:only-of-type {\n",
              "        vertical-align: middle;\n",
              "    }\n",
              "\n",
              "    .dataframe tbody tr th {\n",
              "        vertical-align: top;\n",
              "    }\n",
              "\n",
              "    .dataframe thead th {\n",
              "        text-align: right;\n",
              "    }\n",
              "</style>\n",
              "<table border=\"1\" class=\"dataframe\">\n",
              "  <thead>\n",
              "    <tr style=\"text-align: right;\">\n",
              "      <th></th>\n",
              "      <th>avgAnnCount</th>\n",
              "      <th>avgDeathsPerYear</th>\n",
              "      <th>TARGET_deathRate</th>\n",
              "      <th>incidenceRate</th>\n",
              "      <th>medIncome</th>\n",
              "      <th>popEst2015</th>\n",
              "      <th>povertyPercent</th>\n",
              "      <th>studyPerCap</th>\n",
              "      <th>binnedInc</th>\n",
              "      <th>MedianAge</th>\n",
              "      <th>MedianAgeMale</th>\n",
              "      <th>MedianAgeFemale</th>\n",
              "      <th>Geography</th>\n",
              "      <th>AvgHouseholdSize</th>\n",
              "      <th>PercentMarried</th>\n",
              "      <th>PctNoHS18_24</th>\n",
              "      <th>PctHS18_24</th>\n",
              "      <th>PctSomeCol18_24</th>\n",
              "      <th>PctBachDeg18_24</th>\n",
              "      <th>PctHS25_Over</th>\n",
              "      <th>PctBachDeg25_Over</th>\n",
              "      <th>PctEmployed16_Over</th>\n",
              "      <th>PctUnemployed16_Over</th>\n",
              "      <th>PctPrivateCoverage</th>\n",
              "      <th>PctPrivateCoverageAlone</th>\n",
              "      <th>PctEmpPrivCoverage</th>\n",
              "      <th>PctPublicCoverage</th>\n",
              "      <th>PctPublicCoverageAlone</th>\n",
              "      <th>PctWhite</th>\n",
              "      <th>PctBlack</th>\n",
              "      <th>PctAsian</th>\n",
              "      <th>PctOtherRace</th>\n",
              "      <th>PctMarriedHouseholds</th>\n",
              "      <th>BirthRate</th>\n",
              "    </tr>\n",
              "  </thead>\n",
              "  <tbody>\n",
              "    <tr>\n",
              "      <th>0</th>\n",
              "      <td>1397.0</td>\n",
              "      <td>469</td>\n",
              "      <td>164.9</td>\n",
              "      <td>489.8</td>\n",
              "      <td>61898</td>\n",
              "      <td>260131</td>\n",
              "      <td>11.2</td>\n",
              "      <td>499.748204</td>\n",
              "      <td>(61494.5, 125635]</td>\n",
              "      <td>39.3</td>\n",
              "      <td>36.9</td>\n",
              "      <td>41.7</td>\n",
              "      <td>Kitsap County, Washington</td>\n",
              "      <td>2.54</td>\n",
              "      <td>52.5</td>\n",
              "      <td>11.5</td>\n",
              "      <td>39.5</td>\n",
              "      <td>42.1</td>\n",
              "      <td>6.9</td>\n",
              "      <td>23.2</td>\n",
              "      <td>19.6</td>\n",
              "      <td>51.9</td>\n",
              "      <td>8.0</td>\n",
              "      <td>75.1</td>\n",
              "      <td>NaN</td>\n",
              "      <td>41.6</td>\n",
              "      <td>32.9</td>\n",
              "      <td>14.0</td>\n",
              "      <td>81.780529</td>\n",
              "      <td>2.594728</td>\n",
              "      <td>4.821857</td>\n",
              "      <td>1.843479</td>\n",
              "      <td>52.856076</td>\n",
              "      <td>6.118831</td>\n",
              "    </tr>\n",
              "    <tr>\n",
              "      <th>1</th>\n",
              "      <td>173.0</td>\n",
              "      <td>70</td>\n",
              "      <td>161.3</td>\n",
              "      <td>411.6</td>\n",
              "      <td>48127</td>\n",
              "      <td>43269</td>\n",
              "      <td>18.6</td>\n",
              "      <td>23.111234</td>\n",
              "      <td>(48021.6, 51046.4]</td>\n",
              "      <td>33.0</td>\n",
              "      <td>32.2</td>\n",
              "      <td>33.7</td>\n",
              "      <td>Kittitas County, Washington</td>\n",
              "      <td>2.34</td>\n",
              "      <td>44.5</td>\n",
              "      <td>6.1</td>\n",
              "      <td>22.4</td>\n",
              "      <td>64.0</td>\n",
              "      <td>7.5</td>\n",
              "      <td>26.0</td>\n",
              "      <td>22.7</td>\n",
              "      <td>55.9</td>\n",
              "      <td>7.8</td>\n",
              "      <td>70.2</td>\n",
              "      <td>53.8</td>\n",
              "      <td>43.6</td>\n",
              "      <td>31.1</td>\n",
              "      <td>15.3</td>\n",
              "      <td>89.228509</td>\n",
              "      <td>0.969102</td>\n",
              "      <td>2.246233</td>\n",
              "      <td>3.741352</td>\n",
              "      <td>45.372500</td>\n",
              "      <td>4.333096</td>\n",
              "    </tr>\n",
              "    <tr>\n",
              "      <th>2</th>\n",
              "      <td>102.0</td>\n",
              "      <td>50</td>\n",
              "      <td>174.7</td>\n",
              "      <td>349.7</td>\n",
              "      <td>49348</td>\n",
              "      <td>21026</td>\n",
              "      <td>14.6</td>\n",
              "      <td>47.560164</td>\n",
              "      <td>(48021.6, 51046.4]</td>\n",
              "      <td>45.0</td>\n",
              "      <td>44.0</td>\n",
              "      <td>45.8</td>\n",
              "      <td>Klickitat County, Washington</td>\n",
              "      <td>2.62</td>\n",
              "      <td>54.2</td>\n",
              "      <td>24.0</td>\n",
              "      <td>36.6</td>\n",
              "      <td>NaN</td>\n",
              "      <td>9.5</td>\n",
              "      <td>29.0</td>\n",
              "      <td>16.0</td>\n",
              "      <td>45.9</td>\n",
              "      <td>7.0</td>\n",
              "      <td>63.7</td>\n",
              "      <td>43.5</td>\n",
              "      <td>34.9</td>\n",
              "      <td>42.1</td>\n",
              "      <td>21.1</td>\n",
              "      <td>90.922190</td>\n",
              "      <td>0.739673</td>\n",
              "      <td>0.465898</td>\n",
              "      <td>2.747358</td>\n",
              "      <td>54.444868</td>\n",
              "      <td>3.729488</td>\n",
              "    </tr>\n",
              "    <tr>\n",
              "      <th>3</th>\n",
              "      <td>427.0</td>\n",
              "      <td>202</td>\n",
              "      <td>194.8</td>\n",
              "      <td>430.4</td>\n",
              "      <td>44243</td>\n",
              "      <td>75882</td>\n",
              "      <td>17.1</td>\n",
              "      <td>342.637253</td>\n",
              "      <td>(42724.4, 45201]</td>\n",
              "      <td>42.8</td>\n",
              "      <td>42.2</td>\n",
              "      <td>43.4</td>\n",
              "      <td>Lewis County, Washington</td>\n",
              "      <td>2.52</td>\n",
              "      <td>52.7</td>\n",
              "      <td>20.2</td>\n",
              "      <td>41.2</td>\n",
              "      <td>36.1</td>\n",
              "      <td>2.5</td>\n",
              "      <td>31.6</td>\n",
              "      <td>9.3</td>\n",
              "      <td>48.3</td>\n",
              "      <td>12.1</td>\n",
              "      <td>58.4</td>\n",
              "      <td>40.3</td>\n",
              "      <td>35.0</td>\n",
              "      <td>45.3</td>\n",
              "      <td>25.0</td>\n",
              "      <td>91.744686</td>\n",
              "      <td>0.782626</td>\n",
              "      <td>1.161359</td>\n",
              "      <td>1.362643</td>\n",
              "      <td>51.021514</td>\n",
              "      <td>4.603841</td>\n",
              "    </tr>\n",
              "    <tr>\n",
              "      <th>4</th>\n",
              "      <td>57.0</td>\n",
              "      <td>26</td>\n",
              "      <td>144.4</td>\n",
              "      <td>350.1</td>\n",
              "      <td>49955</td>\n",
              "      <td>10321</td>\n",
              "      <td>12.5</td>\n",
              "      <td>0.000000</td>\n",
              "      <td>(48021.6, 51046.4]</td>\n",
              "      <td>48.3</td>\n",
              "      <td>47.8</td>\n",
              "      <td>48.9</td>\n",
              "      <td>Lincoln County, Washington</td>\n",
              "      <td>2.34</td>\n",
              "      <td>57.8</td>\n",
              "      <td>14.9</td>\n",
              "      <td>43.0</td>\n",
              "      <td>40.0</td>\n",
              "      <td>2.0</td>\n",
              "      <td>33.4</td>\n",
              "      <td>15.0</td>\n",
              "      <td>48.2</td>\n",
              "      <td>4.8</td>\n",
              "      <td>61.6</td>\n",
              "      <td>43.9</td>\n",
              "      <td>35.1</td>\n",
              "      <td>44.0</td>\n",
              "      <td>22.7</td>\n",
              "      <td>94.104024</td>\n",
              "      <td>0.270192</td>\n",
              "      <td>0.665830</td>\n",
              "      <td>0.492135</td>\n",
              "      <td>54.027460</td>\n",
              "      <td>6.796657</td>\n",
              "    </tr>\n",
              "  </tbody>\n",
              "</table>\n",
              "</div>\n",
              "      <button class=\"colab-df-convert\" onclick=\"convertToInteractive('df-18669de8-790a-443a-83b1-b9ebb6dc45e1')\"\n",
              "              title=\"Convert this dataframe to an interactive table.\"\n",
              "              style=\"display:none;\">\n",
              "        \n",
              "  <svg xmlns=\"http://www.w3.org/2000/svg\" height=\"24px\"viewBox=\"0 0 24 24\"\n",
              "       width=\"24px\">\n",
              "    <path d=\"M0 0h24v24H0V0z\" fill=\"none\"/>\n",
              "    <path d=\"M18.56 5.44l.94 2.06.94-2.06 2.06-.94-2.06-.94-.94-2.06-.94 2.06-2.06.94zm-11 1L8.5 8.5l.94-2.06 2.06-.94-2.06-.94L8.5 2.5l-.94 2.06-2.06.94zm10 10l.94 2.06.94-2.06 2.06-.94-2.06-.94-.94-2.06-.94 2.06-2.06.94z\"/><path d=\"M17.41 7.96l-1.37-1.37c-.4-.4-.92-.59-1.43-.59-.52 0-1.04.2-1.43.59L10.3 9.45l-7.72 7.72c-.78.78-.78 2.05 0 2.83L4 21.41c.39.39.9.59 1.41.59.51 0 1.02-.2 1.41-.59l7.78-7.78 2.81-2.81c.8-.78.8-2.07 0-2.86zM5.41 20L4 18.59l7.72-7.72 1.47 1.35L5.41 20z\"/>\n",
              "  </svg>\n",
              "      </button>\n",
              "      \n",
              "  <style>\n",
              "    .colab-df-container {\n",
              "      display:flex;\n",
              "      flex-wrap:wrap;\n",
              "      gap: 12px;\n",
              "    }\n",
              "\n",
              "    .colab-df-convert {\n",
              "      background-color: #E8F0FE;\n",
              "      border: none;\n",
              "      border-radius: 50%;\n",
              "      cursor: pointer;\n",
              "      display: none;\n",
              "      fill: #1967D2;\n",
              "      height: 32px;\n",
              "      padding: 0 0 0 0;\n",
              "      width: 32px;\n",
              "    }\n",
              "\n",
              "    .colab-df-convert:hover {\n",
              "      background-color: #E2EBFA;\n",
              "      box-shadow: 0px 1px 2px rgba(60, 64, 67, 0.3), 0px 1px 3px 1px rgba(60, 64, 67, 0.15);\n",
              "      fill: #174EA6;\n",
              "    }\n",
              "\n",
              "    [theme=dark] .colab-df-convert {\n",
              "      background-color: #3B4455;\n",
              "      fill: #D2E3FC;\n",
              "    }\n",
              "\n",
              "    [theme=dark] .colab-df-convert:hover {\n",
              "      background-color: #434B5C;\n",
              "      box-shadow: 0px 1px 3px 1px rgba(0, 0, 0, 0.15);\n",
              "      filter: drop-shadow(0px 1px 2px rgba(0, 0, 0, 0.3));\n",
              "      fill: #FFFFFF;\n",
              "    }\n",
              "  </style>\n",
              "\n",
              "      <script>\n",
              "        const buttonEl =\n",
              "          document.querySelector('#df-18669de8-790a-443a-83b1-b9ebb6dc45e1 button.colab-df-convert');\n",
              "        buttonEl.style.display =\n",
              "          google.colab.kernel.accessAllowed ? 'block' : 'none';\n",
              "\n",
              "        async function convertToInteractive(key) {\n",
              "          const element = document.querySelector('#df-18669de8-790a-443a-83b1-b9ebb6dc45e1');\n",
              "          const dataTable =\n",
              "            await google.colab.kernel.invokeFunction('convertToInteractive',\n",
              "                                                     [key], {});\n",
              "          if (!dataTable) return;\n",
              "\n",
              "          const docLinkHtml = 'Like what you see? Visit the ' +\n",
              "            '<a target=\"_blank\" href=https://colab.research.google.com/notebooks/data_table.ipynb>data table notebook</a>'\n",
              "            + ' to learn more about interactive tables.';\n",
              "          element.innerHTML = '';\n",
              "          dataTable['output_type'] = 'display_data';\n",
              "          await google.colab.output.renderOutput(dataTable, element);\n",
              "          const docLink = document.createElement('div');\n",
              "          docLink.innerHTML = docLinkHtml;\n",
              "          element.appendChild(docLink);\n",
              "        }\n",
              "      </script>\n",
              "    </div>\n",
              "  </div>\n",
              "  "
            ],
            "text/plain": [
              "   avgAnnCount  avgDeathsPerYear  ...  PctMarriedHouseholds  BirthRate\n",
              "0       1397.0               469  ...             52.856076   6.118831\n",
              "1        173.0                70  ...             45.372500   4.333096\n",
              "2        102.0                50  ...             54.444868   3.729488\n",
              "3        427.0               202  ...             51.021514   4.603841\n",
              "4         57.0                26  ...             54.027460   6.796657\n",
              "\n",
              "[5 rows x 34 columns]"
            ]
          },
          "metadata": {},
          "execution_count": 134
        }
      ],
      "source": [
        "data.head()"
      ]
    },
    {
      "cell_type": "markdown",
      "source": [
        "### Checking is there null values in the data\n",
        "\n"
      ],
      "metadata": {
        "id": "1SXYStnitmNi"
      }
    },
    {
      "cell_type": "code",
      "execution_count": 135,
      "metadata": {
        "colab": {
          "base_uri": "https://localhost:8080/"
        },
        "id": "ZI7G4YxnzH_l",
        "outputId": "66872769-5d65-49cb-d325-ab15b7efede8"
      },
      "outputs": [
        {
          "output_type": "execute_result",
          "data": {
            "text/plain": [
              "avgAnnCount                   0\n",
              "avgDeathsPerYear              0\n",
              "TARGET_deathRate              0\n",
              "incidenceRate                 0\n",
              "medIncome                     0\n",
              "popEst2015                    0\n",
              "povertyPercent                0\n",
              "studyPerCap                   0\n",
              "binnedInc                     0\n",
              "MedianAge                     0\n",
              "MedianAgeMale                 0\n",
              "MedianAgeFemale               0\n",
              "Geography                     0\n",
              "AvgHouseholdSize              0\n",
              "PercentMarried                0\n",
              "PctNoHS18_24                  0\n",
              "PctHS18_24                    0\n",
              "PctSomeCol18_24            2285\n",
              "PctBachDeg18_24               0\n",
              "PctHS25_Over                  0\n",
              "PctBachDeg25_Over             0\n",
              "PctEmployed16_Over          152\n",
              "PctUnemployed16_Over          0\n",
              "PctPrivateCoverage            0\n",
              "PctPrivateCoverageAlone     609\n",
              "PctEmpPrivCoverage            0\n",
              "PctPublicCoverage             0\n",
              "PctPublicCoverageAlone        0\n",
              "PctWhite                      0\n",
              "PctBlack                      0\n",
              "PctAsian                      0\n",
              "PctOtherRace                  0\n",
              "PctMarriedHouseholds          0\n",
              "BirthRate                     0\n",
              "dtype: int64"
            ]
          },
          "metadata": {},
          "execution_count": 135
        }
      ],
      "source": [
        "data.isnull().sum()"
      ]
    },
    {
      "cell_type": "markdown",
      "source": [
        "As we can see from above code output there are some null values in the data,here we are filling null values with mean of that particular columns\n"
      ],
      "metadata": {
        "id": "0oPHpHnPtzlF"
      }
    },
    {
      "cell_type": "code",
      "execution_count": 193,
      "metadata": {
        "id": "QvpK8yU2M1v4"
      },
      "outputs": [],
      "source": [
        "data.fillna(data['PctEmployed16_Over'].mean(),inplace=True)\n",
        "data.fillna(data['PctPrivateCoverageAlone'].mean(),inplace=True)"
      ]
    },
    {
      "cell_type": "code",
      "execution_count": 194,
      "metadata": {
        "colab": {
          "base_uri": "https://localhost:8080/"
        },
        "id": "atjw_nAr8EqQ",
        "outputId": "69ac5a25-48a2-42ec-9782-c788b90249a2"
      },
      "outputs": [
        {
          "output_type": "execute_result",
          "data": {
            "text/plain": [
              "avgAnnCount                0\n",
              "avgDeathsPerYear           0\n",
              "TARGET_deathRate           0\n",
              "incidenceRate              0\n",
              "medIncome                  0\n",
              "popEst2015                 0\n",
              "povertyPercent             0\n",
              "studyPerCap                0\n",
              "binnedInc                  0\n",
              "MedianAge                  0\n",
              "MedianAgeMale              0\n",
              "MedianAgeFemale            0\n",
              "Geography                  0\n",
              "AvgHouseholdSize           0\n",
              "PercentMarried             0\n",
              "PctNoHS18_24               0\n",
              "PctHS18_24                 0\n",
              "PctSomeCol18_24            0\n",
              "PctBachDeg18_24            0\n",
              "PctHS25_Over               0\n",
              "PctBachDeg25_Over          0\n",
              "PctEmployed16_Over         0\n",
              "PctUnemployed16_Over       0\n",
              "PctPrivateCoverage         0\n",
              "PctPrivateCoverageAlone    0\n",
              "PctEmpPrivCoverage         0\n",
              "PctPublicCoverage          0\n",
              "PctPublicCoverageAlone     0\n",
              "PctWhite                   0\n",
              "PctBlack                   0\n",
              "PctAsian                   0\n",
              "PctOtherRace               0\n",
              "PctMarriedHouseholds       0\n",
              "BirthRate                  0\n",
              "dtype: int64"
            ]
          },
          "metadata": {},
          "execution_count": 194
        }
      ],
      "source": [
        "data.isnull().sum()"
      ]
    },
    {
      "cell_type": "markdown",
      "source": [
        "###Dropping columns with object data type\n"
      ],
      "metadata": {
        "id": "5Rn_XGkpt5zV"
      }
    },
    {
      "cell_type": "code",
      "execution_count": 195,
      "metadata": {
        "id": "uUZxrgjs6Djj"
      },
      "outputs": [],
      "source": [
        "X=data.drop(labels=['Geography','binnedInc'], axis=1)"
      ]
    },
    {
      "cell_type": "markdown",
      "source": [
        "### Outlier Detection"
      ],
      "metadata": {
        "id": "vJ6mqUlyt-wU"
      }
    },
    {
      "cell_type": "code",
      "source": [
        "data[\"TARGET_deathRate\"].describe()"
      ],
      "metadata": {
        "id": "P6h0bkKWgjJT",
        "colab": {
          "base_uri": "https://localhost:8080/"
        },
        "outputId": "c203894c-ba97-4fe0-d804-60f2dc11027a"
      },
      "execution_count": 196,
      "outputs": [
        {
          "output_type": "execute_result",
          "data": {
            "text/plain": [
              "count    3047.000000\n",
              "mean      178.664063\n",
              "std        27.751511\n",
              "min        59.700000\n",
              "25%       161.200000\n",
              "50%       178.100000\n",
              "75%       195.200000\n",
              "max       362.800000\n",
              "Name: TARGET_deathRate, dtype: float64"
            ]
          },
          "metadata": {},
          "execution_count": 196
        }
      ]
    },
    {
      "cell_type": "code",
      "source": [
        "Q1 = 161.200000\n",
        "Q2 = 178.10\n",
        "Q3 = 195.2\n",
        "IQR = Q3 - Q1\n",
        "upper_limit = Q3 + (1.5*IQR)\n",
        "lower_limit = Q1 - (1.5*IQR)"
      ],
      "metadata": {
        "id": "zG0_BF5Pq0mn"
      },
      "execution_count": 197,
      "outputs": []
    },
    {
      "cell_type": "code",
      "source": [
        "sns.boxplot(x = 'TARGET_deathRate' , data = data , whis = upper_limit - Q3)"
      ],
      "metadata": {
        "id": "tI5zvG6jgpq5",
        "colab": {
          "base_uri": "https://localhost:8080/",
          "height": 519
        },
        "outputId": "e15f3bf4-52da-44ed-a2b9-841322510207"
      },
      "execution_count": 198,
      "outputs": [
        {
          "output_type": "execute_result",
          "data": {
            "text/plain": [
              "<matplotlib.axes._subplots.AxesSubplot at 0x7f3b0d72fe90>"
            ]
          },
          "metadata": {},
          "execution_count": 198
        },
        {
          "output_type": "display_data",
          "data": {
            "image/png": "[encoded data removed]",
            "text/plain": [
              "<Figure size 1080x576 with 1 Axes>"
            ]
          },
          "metadata": {}
        }
      ]
    },
    {
      "cell_type": "code",
      "source": [
        "sum(data[\"TARGET_deathRate\"] > upper_limit)"
      ],
      "metadata": {
        "id": "l-HCj1bQgp3C",
        "colab": {
          "base_uri": "https://localhost:8080/"
        },
        "outputId": "b24d34ba-a651-48cb-ee89-7ace64f0ff31"
      },
      "execution_count": 199,
      "outputs": [
        {
          "output_type": "execute_result",
          "data": {
            "text/plain": [
              "43"
            ]
          },
          "metadata": {},
          "execution_count": 199
        }
      ]
    },
    {
      "cell_type": "code",
      "source": [
        "X=X[X[\"TARGET_deathRate\"] < upper_limit].iloc[:,:]"
      ],
      "metadata": {
        "id": "Pq8bofr_guSw"
      },
      "execution_count": 200,
      "outputs": []
    },
    {
      "cell_type": "markdown",
      "source": [
        "### Separating Features and target from our data\n"
      ],
      "metadata": {
        "id": "5oUI8-ZbuIsK"
      }
    },
    {
      "cell_type": "code",
      "execution_count": 201,
      "metadata": {
        "id": "N3aKxpmG0qN6"
      },
      "outputs": [],
      "source": [
        "Y=X['TARGET_deathRate']\n",
        "X=X.drop('TARGET_deathRate',axis=1)"
      ]
    },
    {
      "cell_type": "code",
      "execution_count": 145,
      "metadata": {
        "id": "aZ3d6ipo_E5p"
      },
      "outputs": [],
      "source": [
        "X_train,X_test,y_train,y_test=train_test_split(X,Y,test_size=0.35,random_state=45)"
      ]
    },
    {
      "cell_type": "markdown",
      "source": [
        "### function for model evaluation \n"
      ],
      "metadata": {
        "id": "mb3uqccyuVtt"
      }
    },
    {
      "cell_type": "code",
      "execution_count": 146,
      "metadata": {
        "id": "kqg-kqFp-3ev"
      },
      "outputs": [],
      "source": [
        "from sklearn import metrics\n",
        "\n",
        "from sklearn.model_selection import cross_val_score\n",
        "\n",
        "\n",
        "\n",
        "def cross_val(model):\n",
        "  pred = cross_val_score(model, Features, Label, cv=10)\n",
        "\n",
        "  return pred.mean()\n",
        "\n",
        "\n",
        "\n",
        "def print_evaluate(true, predicted):\n",
        "\n",
        "  mae = metrics.mean_absolute_error(true, predicted)\n",
        "\n",
        "  mse = metrics.mean_squared_error(true, predicted)\n",
        "\n",
        "  rmse = np.sqrt(metrics.mean_squared_error(true, predicted))\n",
        "\n",
        "  r2_square = metrics.r2_score(true, predicted)\n",
        "\n",
        "  print('MAE:', mae)\n",
        "\n",
        "  print('MSE:', mse)\n",
        "\n",
        "  print('RMSE:', rmse)\n",
        "\n",
        "  print('R2 Square', r2_square)\n",
        "\n",
        "def evaluate(true, predicted):\n",
        "\n",
        "  mae = metrics.mean_absolute_error(true, predicted)\n",
        "\n",
        "  mse = metrics.mean_squared_error(true, predicted)\n",
        "\n",
        "  rmse = np.sqrt(metrics.mean_squared_error(true, predicted))\n",
        "\n",
        "  r2_square = metrics.r2_score(true, predicted)\n",
        "\n",
        "  return mae, mse, rmse, r2_square"
      ]
    },
    {
      "cell_type": "markdown",
      "source": [
        "### Trying Different Machine Learning Model Without Scaling Datat"
      ],
      "metadata": {
        "id": "wlo-F9lIunEX"
      }
    },
    {
      "cell_type": "markdown",
      "source": [
        "### Linear Regression\n"
      ],
      "metadata": {
        "id": "W2tlRJQHuZmQ"
      }
    },
    {
      "cell_type": "code",
      "execution_count": 147,
      "metadata": {
        "id": "4mOOyQ8f9gQE",
        "colab": {
          "base_uri": "https://localhost:8080/"
        },
        "outputId": "a1bec1c8-2542-4349-b5e6-ccf98019a9cb"
      },
      "outputs": [
        {
          "output_type": "stream",
          "name": "stdout",
          "text": [
            "Test set evaluation:\n",
            "_____________________________________\n",
            "MAE: 13.974009077403094\n",
            "MSE: 349.3455032501519\n",
            "RMSE: 18.690786587250734\n",
            "R2 Square 0.5015861211869023\n",
            "====================================\n",
            "Train set evaluation:\n",
            "_____________________________________\n",
            "MAE: 13.691076092419848\n",
            "MSE: 326.4815397948153\n",
            "RMSE: 18.06880017585051\n",
            "R2 Square 0.4983457515858378\n"
          ]
        }
      ],
      "source": [
        "LR=LinearRegression()\n",
        "LR.fit(X_train,y_train)\n",
        "y_pred_lr=LR.predict(X_test)\n",
        "test_pred = LR.predict(X_test)\n",
        "train_pred = LR.predict(X_train)\n",
        "\n",
        "print('Test set evaluation:\\n_____________________________________')\n",
        "print_evaluate(y_test, y_pred_lr)\n",
        "print('====================================')\n",
        "print('Train set evaluation:\\n_____________________________________')\n",
        "print_evaluate(y_train, train_pred)"
      ]
    },
    {
      "cell_type": "markdown",
      "source": [
        "### Random Forest Regressor"
      ],
      "metadata": {
        "id": "su8IJa_-u3yd"
      }
    },
    {
      "cell_type": "code",
      "source": [
        "RF=RandomForestRegressor()\n",
        "RF.fit(X_train,y_train)\n",
        "train_pred = RF.predict(X_train)\n",
        "y_pred_lr=RF.predict(X_test)\n",
        "\n",
        "print('Test set evaluation:\\n_____________________________________')\n",
        "print_evaluate(y_test, y_pred_lr)\n",
        "print('====================================')\n",
        "print('Train set evaluation:\\n_____________________________________')\n",
        "print_evaluate(y_train, train_pred)"
      ],
      "metadata": {
        "colab": {
          "base_uri": "https://localhost:8080/"
        },
        "id": "o0qDx3b-LLI_",
        "outputId": "9f7bc74c-0987-465b-ef76-d9ffa75ab845"
      },
      "execution_count": 148,
      "outputs": [
        {
          "output_type": "stream",
          "name": "stdout",
          "text": [
            "Test set evaluation:\n",
            "_____________________________________\n",
            "MAE: 13.58100950570342\n",
            "MSE: 327.0508182680608\n",
            "RMSE: 18.084546393760082\n",
            "R2 Square 0.5333941173267103\n",
            "====================================\n",
            "Train set evaluation:\n",
            "_____________________________________\n",
            "MAE: 4.961945696721308\n",
            "MSE: 43.94309273155733\n",
            "RMSE: 6.628958646088941\n",
            "R2 Square 0.9324793702850782\n"
          ]
        }
      ]
    },
    {
      "cell_type": "markdown",
      "source": [
        "### Hyperparameter Tunnning with Grid Search CV for Random Forest"
      ],
      "metadata": {
        "id": "OPDW-yRDu8RS"
      }
    },
    {
      "cell_type": "code",
      "source": [
        " n_folds=5\n",
        " param_grid = { \n",
        "            \"n_estimators\"      : [10,20,30],\n",
        "            \"max_features\"      : [\"auto\", \"sqrt\", \"log2\"],\n",
        "            \"min_samples_split\" : [2,4,8],\n",
        "            \"bootstrap\": [True, False],\n",
        "            }\n",
        "grid = GridSearchCV(estimator=RF, param_grid=param_grid, n_jobs=-1, cv=n_folds)\n",
        "grid.fit(X_train,y_train)\n",
        "\n",
        "grid.best_params_"
      ],
      "metadata": {
        "id": "PiCfhkh-LLL7",
        "colab": {
          "base_uri": "https://localhost:8080/"
        },
        "outputId": "37aa06fc-c7e3-4000-d1ad-6b4d4684fefe"
      },
      "execution_count": 149,
      "outputs": [
        {
          "output_type": "execute_result",
          "data": {
            "text/plain": [
              "{'bootstrap': True,\n",
              " 'max_features': 'auto',\n",
              " 'min_samples_split': 2,\n",
              " 'n_estimators': 30}"
            ]
          },
          "metadata": {},
          "execution_count": 149
        }
      ]
    },
    {
      "cell_type": "code",
      "source": [
        "grid_rf=RandomForestRegressor(bootstrap= True,\n",
        " max_features='auto',\n",
        " min_samples_split= 2,\n",
        " n_estimators= 30)\n",
        "grid_rf.fit(X_train,y_train)\n",
        "y_pred_grid_rf=grid_rf.predict(X_test)\n",
        "train_pred = grid_rf.predict(X_train)\n",
        "\n",
        "\n",
        "print('Test set evaluation:\\n_____________________________________')\n",
        "print_evaluate(y_test, y_pred_grid_rf)\n",
        "print('====================================')\n",
        "print('Train set evaluation:\\n_____________________________________')\n",
        "print_evaluate(y_train, train_pred)"
      ],
      "metadata": {
        "id": "BIxyhIMvLLN1"
      },
      "execution_count": null,
      "outputs": []
    },
    {
      "cell_type": "markdown",
      "source": [
        "### Support Vector Regressor "
      ],
      "metadata": {
        "id": "i56G-NhTvNuc"
      }
    },
    {
      "cell_type": "code",
      "source": [
        "linear=LinearSVR()\n",
        "linear.fit(X_train,y_train)\n",
        "y_pred_linear=linear.predict(X_test)\n",
        "\n",
        "print('Test set evaluation:\\n_____________________________________')\n",
        "print_evaluate(y_test, y_pred_linear)\n",
        "print('====================================')\n",
        "print('Train set evaluation:\\n_____________________________________')\n",
        "print_evaluate(y_train, train_pred)"
      ],
      "metadata": {
        "id": "EXVGOYXRVy3w",
        "colab": {
          "base_uri": "https://localhost:8080/"
        },
        "outputId": "3dd55e7c-4d50-4564-9ebe-dc6213a90d2d"
      },
      "execution_count": 151,
      "outputs": [
        {
          "output_type": "stream",
          "name": "stdout",
          "text": [
            "Test set evaluation:\n",
            "_____________________________________\n",
            "MAE: 58.83970028858965\n",
            "MSE: 11796.791876135678\n",
            "RMSE: 108.61303732119674\n",
            "R2 Square -15.830572432831413\n",
            "====================================\n",
            "Train set evaluation:\n",
            "_____________________________________\n",
            "MAE: 6.334551961506968\n",
            "MSE: 76.3407562744235\n",
            "RMSE: 8.7373197420275\n",
            "R2 Square 0.8826988357862957\n"
          ]
        },
        {
          "output_type": "stream",
          "name": "stderr",
          "text": [
            "/usr/local/lib/python3.7/dist-packages/sklearn/svm/_base.py:1208: ConvergenceWarning: Liblinear failed to converge, increase the number of iterations.\n",
            "  ConvergenceWarning,\n"
          ]
        }
      ]
    },
    {
      "cell_type": "markdown",
      "source": [
        "### Hyperparamter Tunning for SVR"
      ],
      "metadata": {
        "id": "Pg1VDAuAv_fr"
      }
    },
    {
      "cell_type": "code",
      "source": [
        "K = 5              \n",
        "parameters = [{'kernel': ['rbf'], 'gamma': [1e-4, 1e-3, 0.01, 0.1, 0.2, 0.5, 0.6, 0.9],'C': [1, 10, 100, 1000, 10000]}]\n",
        "print(\"Tuning hyper-parameters\")\n",
        "svr = GridSearchCV(SVR(epsilon = 0.01), parameters, cv = K)\n",
        "svr.fit(X, Y)\n",
        "svr.best_params_"
      ],
      "metadata": {
        "colab": {
          "base_uri": "https://localhost:8080/"
        },
        "id": "iQq29rjevzwW",
        "outputId": "e27d45a5-28a3-4d67-be22-1198ebc5e636"
      },
      "execution_count": 152,
      "outputs": [
        {
          "output_type": "stream",
          "name": "stdout",
          "text": [
            "Tuning hyper-parameters\n"
          ]
        },
        {
          "output_type": "execute_result",
          "data": {
            "text/plain": [
              "{'C': 1, 'gamma': 0.0001, 'kernel': 'rbf'}"
            ]
          },
          "metadata": {},
          "execution_count": 152
        }
      ]
    },
    {
      "cell_type": "code",
      "source": [
        "grid_svr=SVR(C=1,gamma=0.0001,kernel='rbf')\n",
        "grid_svr.fit(X,Y)\n",
        "grid_svr_pred=grid_svr.predict(X_test)\n",
        "\n",
        "print('Test set evaluation:\\n_____________________________________')\n",
        "print_evaluate(y_test, grid_svr_pred)\n",
        "print('====================================')\n",
        "print('Train set evaluation:\\n_____________________________________')\n",
        "print_evaluate(y_train, train_pred)"
      ],
      "metadata": {
        "colab": {
          "base_uri": "https://localhost:8080/"
        },
        "id": "CsFJ0SWivz5s",
        "outputId": "d89a4712-6dbf-4946-fa64-bb361b75905a"
      },
      "execution_count": 153,
      "outputs": [
        {
          "output_type": "stream",
          "name": "stdout",
          "text": [
            "Test set evaluation:\n",
            "_____________________________________\n",
            "MAE: 19.890668496577295\n",
            "MSE: 660.2883831202839\n",
            "RMSE: 25.69607719322706\n",
            "R2 Square 0.057961556383461676\n",
            "====================================\n",
            "Train set evaluation:\n",
            "_____________________________________\n",
            "MAE: 6.334551961506968\n",
            "MSE: 76.3407562744235\n",
            "RMSE: 8.7373197420275\n",
            "R2 Square 0.8826988357862957\n"
          ]
        }
      ]
    },
    {
      "cell_type": "markdown",
      "source": [
        "### XGB Regressor"
      ],
      "metadata": {
        "id": "B4ExbS63wFS2"
      }
    },
    {
      "cell_type": "code",
      "source": [
        "xgb=XGBRegressor(random_state=5)\n",
        "xgb.fit(X_train,y_train)\n",
        "final=xgb.predict(X_test)\n",
        "train_pred = xgb.predict(X_train)\n",
        "\n",
        "print('Test set evaluation:\\n_____________________________________')\n",
        "print_evaluate(y_test, final)\n",
        "print('====================================')\n",
        "print('Train set evaluation:\\n_____________________________________')\n",
        "print_evaluate(y_train, train_pred)"
      ],
      "metadata": {
        "id": "UkUZwuMMLLQh",
        "colab": {
          "base_uri": "https://localhost:8080/"
        },
        "outputId": "394d3c40-c884-4483-95f0-88fd973b7bb9"
      },
      "execution_count": 154,
      "outputs": [
        {
          "output_type": "stream",
          "name": "stdout",
          "text": [
            "[04:48:39] WARNING: /workspace/src/objective/regression_obj.cu:152: reg:linear is now deprecated in favor of reg:squarederror.\n",
            "Test set evaluation:\n",
            "_____________________________________\n",
            "MAE: 12.594299632605491\n",
            "MSE: 284.4116479795711\n",
            "RMSE: 16.864508530626416\n",
            "R2 Square 0.5942277449393167\n",
            "====================================\n",
            "Train set evaluation:\n",
            "_____________________________________\n",
            "MAE: 9.88351822133924\n",
            "MSE: 162.52306616424457\n",
            "RMSE: 12.748453481275467\n",
            "R2 Square 0.7502756613503205\n"
          ]
        }
      ]
    },
    {
      "cell_type": "markdown",
      "source": [
        "### Normalising Data\n",
        "Data standardization helps improve the quality of your data by standardizing,so here standard scaler function noarmalising data into range of 0 to 1.\n",
        "\n"
      ],
      "metadata": {
        "id": "fBaRSlJzwOgZ"
      }
    },
    {
      "cell_type": "code",
      "source": [
        "from sklearn.preprocessing import StandardScaler\n",
        "\n",
        "sc=StandardScaler()\n",
        "\n",
        "X_scale=sc.fit_transform(X)\n",
        "\n",
        "X_scale=pd.DataFrame(X_scale,columns=X.columns)\n",
        "\n",
        "X_train,X_test,y_train,y_test=train_test_split(X_scale,Y,test_size=0.35,random_state=45)"
      ],
      "metadata": {
        "id": "KntUQcRBFFkz"
      },
      "execution_count": 155,
      "outputs": []
    },
    {
      "cell_type": "markdown",
      "source": [
        "### Trying Different ML algorithms with Normalise Data"
      ],
      "metadata": {
        "id": "rSpju-0cwZ8_"
      }
    },
    {
      "cell_type": "code",
      "source": [
        "LR=LinearRegression()\n",
        "LR.fit(X_train,y_train)\n",
        "y_pred_lr1=LR.predict(X_test)\n",
        "train_pred_lr = LR.predict(X_train)\n",
        "\n",
        "print('Test set evaluation:\\n_____________________________________')\n",
        "print_evaluate(y_test, y_pred_lr1)\n",
        "print('====================================')\n",
        "print('Train set evaluation:\\n_____________________________________')\n",
        "print_evaluate(y_train, train_pred_lr)"
      ],
      "metadata": {
        "id": "I2AT3WKBLLXd",
        "colab": {
          "base_uri": "https://localhost:8080/"
        },
        "outputId": "39cdcb90-a898-404e-ceb3-ce702f2c1185"
      },
      "execution_count": 156,
      "outputs": [
        {
          "output_type": "stream",
          "name": "stdout",
          "text": [
            "Test set evaluation:\n",
            "_____________________________________\n",
            "MAE: 13.9740090774031\n",
            "MSE: 349.34550325015135\n",
            "RMSE: 18.690786587250717\n",
            "R2 Square 0.501586121186903\n",
            "====================================\n",
            "Train set evaluation:\n",
            "_____________________________________\n",
            "MAE: 13.691076092419841\n",
            "MSE: 326.4815397948153\n",
            "RMSE: 18.06880017585051\n",
            "R2 Square 0.4983457515858378\n"
          ]
        }
      ]
    },
    {
      "cell_type": "code",
      "source": [
        "RF=RandomForestRegressor()\n",
        "RF.fit(X_train,y_train)\n",
        "train_pred_rf = RF.predict(X_train)\n",
        "y_pred_RF=RF.predict(X_test)\n",
        "\n",
        "print('Test set evaluation:\\n_____________________________________')\n",
        "print_evaluate(y_test, y_pred_RF)\n",
        "print('====================================')\n",
        "print('Train set evaluation:\\n_____________________________________')\n",
        "print_evaluate(y_train, train_pred_rf)"
      ],
      "metadata": {
        "id": "jhXcY4D-LLaZ",
        "colab": {
          "base_uri": "https://localhost:8080/"
        },
        "outputId": "12a11e86-45d5-49f9-86fb-cf3c75e619d3"
      },
      "execution_count": 157,
      "outputs": [
        {
          "output_type": "stream",
          "name": "stdout",
          "text": [
            "Test set evaluation:\n",
            "_____________________________________\n",
            "MAE: 13.599485741444866\n",
            "MSE: 333.6283201834601\n",
            "RMSE: 18.265495344596054\n",
            "R2 Square 0.5240099454623104\n",
            "====================================\n",
            "Train set evaluation:\n",
            "_____________________________________\n",
            "MAE: 4.929779713114746\n",
            "MSE: 43.831365856557284\n",
            "RMSE: 6.620526101191452\n",
            "R2 Square 0.9326510438858001\n"
          ]
        }
      ]
    },
    {
      "cell_type": "markdown",
      "source": [
        "### Hyperparameter Tunning"
      ],
      "metadata": {
        "id": "HvXuMCr7wtBO"
      }
    },
    {
      "cell_type": "code",
      "source": [
        " n_folds=5\n",
        " param_grid = { \n",
        "            \"n_estimators\"      : [10,20,30],\n",
        "            \"max_features\"      : [\"auto\", \"sqrt\", \"log2\"],\n",
        "            \"min_samples_split\" : [2,4,8],\n",
        "            \"bootstrap\": [True, False],\n",
        "            }\n",
        "grid = GridSearchCV(estimator=RF, param_grid=param_grid, n_jobs=-1, cv=n_folds)\n",
        "grid.fit(X_train,y_train)\n",
        "grid.best_params_"
      ],
      "metadata": {
        "id": "_sAKE31vLLc7",
        "colab": {
          "base_uri": "https://localhost:8080/"
        },
        "outputId": "3ed7b8bc-29a6-4b63-ef83-541c252737fc"
      },
      "execution_count": 158,
      "outputs": [
        {
          "output_type": "execute_result",
          "data": {
            "text/plain": [
              "{'bootstrap': True,\n",
              " 'max_features': 'auto',\n",
              " 'min_samples_split': 2,\n",
              " 'n_estimators': 20}"
            ]
          },
          "metadata": {},
          "execution_count": 158
        }
      ]
    },
    {
      "cell_type": "code",
      "source": [
        "grid_rf=RandomForestRegressor(bootstrap= True,\n",
        " max_features='auto',\n",
        " min_samples_split= 2,\n",
        " n_estimators= 20)\n",
        "grid_rf.fit(X_train,y_train)\n",
        "y_pred_grid_rf=grid_rf.predict(X_test)\n",
        "train_pred = grid_rf.predict(X_train)\n",
        "\n",
        "print('Test set evaluation:\\n_____________________________________')\n",
        "print_evaluate(y_test, y_pred_grid_rf)\n",
        "print('====================================')\n",
        "print('Train set evaluation:\\n_____________________________________')\n",
        "print_evaluate(y_train, train_pred)"
      ],
      "metadata": {
        "id": "QwWSi_FDLLe9"
      },
      "execution_count": null,
      "outputs": []
    },
    {
      "cell_type": "code",
      "source": [
        "xgb=XGBRegressor(random_state=5)\n",
        "xgb.fit(X_train,y_train) \n",
        "final=xgb.predict(X_test)\n",
        "train_pred = xgb.predict(X_train)\n",
        "\n",
        "print('Test set evaluation:\\n_____________________________________')\n",
        "print_evaluate(y_test, final)\n",
        "print('====================================')\n",
        "print('Train set evaluation:\\n_____________________________________')\n",
        "print_evaluate(y_train, train_pred)"
      ],
      "metadata": {
        "id": "NrCVaDPnLLjx",
        "colab": {
          "base_uri": "https://localhost:8080/"
        },
        "outputId": "3d26befd-f8f8-4e6a-85ae-bf879934c1a2"
      },
      "execution_count": 160,
      "outputs": [
        {
          "output_type": "stream",
          "name": "stdout",
          "text": [
            "[04:49:53] WARNING: /workspace/src/objective/regression_obj.cu:152: reg:linear is now deprecated in favor of reg:squarederror.\n",
            "Test set evaluation:\n",
            "_____________________________________\n",
            "MAE: 12.597334446199945\n",
            "MSE: 284.9413029048574\n",
            "RMSE: 16.880204468692238\n",
            "R2 Square 0.5934720822406749\n",
            "====================================\n",
            "Train set evaluation:\n",
            "_____________________________________\n",
            "MAE: 9.88351822133924\n",
            "MSE: 162.52306616424457\n",
            "RMSE: 12.748453481275467\n",
            "R2 Square 0.7502756613503205\n"
          ]
        }
      ]
    },
    {
      "cell_type": "code",
      "source": [
        "linear=LinearSVR()\n",
        "linear.fit(X_train,y_train)\n",
        "y_pred_linear=linear.predict(X_test)\n",
        "\n",
        "print('Test set evaluation:\\n_____________________________________')\n",
        "print_evaluate(y_test, y_pred_linear)\n",
        "print('====================================')\n",
        "print('Train set evaluation:\\n_____________________________________')\n",
        "print_evaluate(y_train, train_pred)"
      ],
      "metadata": {
        "id": "heNe7Z3fLLmQ",
        "colab": {
          "base_uri": "https://localhost:8080/"
        },
        "outputId": "db1095e8-9d4f-478f-fecc-fbb179e4dd9e"
      },
      "execution_count": 161,
      "outputs": [
        {
          "output_type": "stream",
          "name": "stdout",
          "text": [
            "Test set evaluation:\n",
            "_____________________________________\n",
            "MAE: 13.827745246037445\n",
            "MSE: 349.04866727429055\n",
            "RMSE: 18.68284419659626\n",
            "R2 Square 0.5020096193247741\n",
            "====================================\n",
            "Train set evaluation:\n",
            "_____________________________________\n",
            "MAE: 9.88351822133924\n",
            "MSE: 162.52306616424457\n",
            "RMSE: 12.748453481275467\n",
            "R2 Square 0.7502756613503205\n"
          ]
        }
      ]
    },
    {
      "cell_type": "code",
      "source": [
        "K = 5              \n",
        "parameters = [{'kernel': ['rbf'], 'gamma': [1e-4, 1e-3, 0.01, 0.1, 0.2, 0.5, 0.6, 0.9],'C': [1, 10, 100, 1000, 10000]}]\n",
        "print(\"Tuning hyper-parameters\")\n",
        "svr = GridSearchCV(SVR(epsilon = 0.01), parameters, cv = K)\n",
        "svr.fit(X, Y)\n",
        "svr.best_params_"
      ],
      "metadata": {
        "colab": {
          "base_uri": "https://localhost:8080/"
        },
        "id": "FU-OMpeAxDVf",
        "outputId": "d788f65e-4d36-4bd3-ab52-7821190ff964"
      },
      "execution_count": 162,
      "outputs": [
        {
          "output_type": "stream",
          "name": "stdout",
          "text": [
            "Tuning hyper-parameters\n"
          ]
        },
        {
          "output_type": "execute_result",
          "data": {
            "text/plain": [
              "{'C': 1, 'gamma': 0.0001, 'kernel': 'rbf'}"
            ]
          },
          "metadata": {},
          "execution_count": 162
        }
      ]
    },
    {
      "cell_type": "code",
      "source": [
        "grid_svr=SVR(C=1,gamma=0.0001,kernel='rbf')\n",
        "grid_svr.fit(X,Y)\n",
        "grid_svr_pred=grid_svr.predict(X_test)\n",
        "\n",
        "print('Test set evaluation:\\n_____________________________________')\n",
        "print_evaluate(y_test, grid_svr_pred)\n",
        "print('====================================')\n",
        "print('Train set evaluation:\\n_____________________________________')\n",
        "print_evaluate(y_train, train_pred)"
      ],
      "metadata": {
        "colab": {
          "base_uri": "https://localhost:8080/"
        },
        "id": "lX2tmfG6xDem",
        "outputId": "8a25dc9d-62ab-4091-9d09-b6c69793ce59"
      },
      "execution_count": 163,
      "outputs": [
        {
          "output_type": "stream",
          "name": "stdout",
          "text": [
            "Test set evaluation:\n",
            "_____________________________________\n",
            "MAE: 20.8738387430858\n",
            "MSE: 701.0421275206675\n",
            "RMSE: 26.477200145043046\n",
            "R2 Square -0.0001821198161084947\n",
            "====================================\n",
            "Train set evaluation:\n",
            "_____________________________________\n",
            "MAE: 9.88351822133924\n",
            "MSE: 162.52306616424457\n",
            "RMSE: 12.748453481275467\n",
            "R2 Square 0.7502756613503205\n"
          ]
        }
      ]
    },
    {
      "cell_type": "markdown",
      "source": [
        "### Optimisation SGD Regressor"
      ],
      "metadata": {
        "id": "gjpwLMDXw24D"
      }
    },
    {
      "cell_type": "code",
      "source": [
        "reg = make_pipeline(StandardScaler(),SGDRegressor(max_iter=1000, tol=1e-3))\n",
        "reg.fit(X_train, y_train)\n",
        "pred=reg.predict(X_test)\n",
        "\n",
        "print('Test set evaluation:\\n_____________________________________')\n",
        "print_evaluate(y_test, pred)\n",
        "print('====================================')\n",
        "print('Train set evaluation:\\n_____________________________________')\n",
        "print_evaluate(y_train, train_pred)"
      ],
      "metadata": {
        "id": "LdKNJxFQaJuY",
        "colab": {
          "base_uri": "https://localhost:8080/"
        },
        "outputId": "df14f12e-200e-454c-8820-5fe428362bb7"
      },
      "execution_count": 164,
      "outputs": [
        {
          "output_type": "stream",
          "name": "stdout",
          "text": [
            "Test set evaluation:\n",
            "_____________________________________\n",
            "MAE: 14.10356780897792\n",
            "MSE: 352.6151816836099\n",
            "RMSE: 18.778050529370983\n",
            "R2 Square 0.4969212461696778\n",
            "====================================\n",
            "Train set evaluation:\n",
            "_____________________________________\n",
            "MAE: 9.88351822133924\n",
            "MSE: 162.52306616424457\n",
            "RMSE: 12.748453481275467\n",
            "R2 Square 0.7502756613503205\n"
          ]
        }
      ]
    },
    {
      "cell_type": "markdown",
      "source": [
        "### RFE\n",
        "RFE-Recursive feature elimination (RFE) is a feature selection method that fits a model and removes the weakest feature (or features) until the specified number of features is reached. Features are ranked by the model’s coef_ or feature_importances_ attributes, and by recursively eliminating a small number of features per loop\n"
      ],
      "metadata": {
        "id": "uLBk9FXwxMXX"
      }
    },
    {
      "cell_type": "code",
      "execution_count": 165,
      "metadata": {
        "colab": {
          "base_uri": "https://localhost:8080/"
        },
        "id": "rsH1IQ5S_Nt6",
        "outputId": "0bcc6d81-e23e-4a9a-b4c6-9f21e3cbc15b"
      },
      "outputs": [
        {
          "output_type": "stream",
          "name": "stdout",
          "text": [
            "[04:52:15] WARNING: /workspace/src/objective/regression_obj.cu:152: reg:linear is now deprecated in favor of reg:squarederror.\n",
            "[04:52:16] WARNING: /workspace/src/objective/regression_obj.cu:152: reg:linear is now deprecated in favor of reg:squarederror.\n",
            "[04:52:16] WARNING: /workspace/src/objective/regression_obj.cu:152: reg:linear is now deprecated in favor of reg:squarederror.\n",
            "[04:52:16] WARNING: /workspace/src/objective/regression_obj.cu:152: reg:linear is now deprecated in favor of reg:squarederror.\n",
            "[04:52:17] WARNING: /workspace/src/objective/regression_obj.cu:152: reg:linear is now deprecated in favor of reg:squarederror.\n",
            "[04:52:17] WARNING: /workspace/src/objective/regression_obj.cu:152: reg:linear is now deprecated in favor of reg:squarederror.\n",
            "[04:52:17] WARNING: /workspace/src/objective/regression_obj.cu:152: reg:linear is now deprecated in favor of reg:squarederror.\n",
            "[04:52:18] WARNING: /workspace/src/objective/regression_obj.cu:152: reg:linear is now deprecated in favor of reg:squarederror.\n",
            "[04:52:18] WARNING: /workspace/src/objective/regression_obj.cu:152: reg:linear is now deprecated in favor of reg:squarederror.\n",
            "[04:52:18] WARNING: /workspace/src/objective/regression_obj.cu:152: reg:linear is now deprecated in favor of reg:squarederror.\n",
            "[04:52:18] WARNING: /workspace/src/objective/regression_obj.cu:152: reg:linear is now deprecated in favor of reg:squarederror.\n",
            "[04:52:19] WARNING: /workspace/src/objective/regression_obj.cu:152: reg:linear is now deprecated in favor of reg:squarederror.\n",
            "[04:52:19] WARNING: /workspace/src/objective/regression_obj.cu:152: reg:linear is now deprecated in favor of reg:squarederror.\n",
            "[04:52:19] WARNING: /workspace/src/objective/regression_obj.cu:152: reg:linear is now deprecated in favor of reg:squarederror.\n",
            "[04:52:19] WARNING: /workspace/src/objective/regression_obj.cu:152: reg:linear is now deprecated in favor of reg:squarederror.\n",
            "[04:52:20] WARNING: /workspace/src/objective/regression_obj.cu:152: reg:linear is now deprecated in favor of reg:squarederror.\n",
            "[04:52:20] WARNING: /workspace/src/objective/regression_obj.cu:152: reg:linear is now deprecated in favor of reg:squarederror.\n"
          ]
        }
      ],
      "source": [
        "X_train,X_test,y_train,y_test=train_test_split(X,Y,test_size=0.35,random_state=45)\n",
        "from sklearn.feature_selection import RFE\n",
        "\n",
        "rfe=RFE(xgb)\n",
        "\n",
        "rfe=rfe.fit(X_train,y_train)\n",
        "\n",
        "imp_features = pd.DataFrame(list(zip(X.columns, rfe.support_, rfe.ranking_)), columns=['Feature','Support','Ranking'])"
      ]
    },
    {
      "cell_type": "code",
      "execution_count": 166,
      "metadata": {
        "colab": {
          "base_uri": "https://localhost:8080/"
        },
        "id": "a9cc-lxE_yaL",
        "outputId": "b2287474-7f84-47b7-b585-acd4a791be1c"
      },
      "outputs": [
        {
          "output_type": "execute_result",
          "data": {
            "text/plain": [
              "Index(['avgAnnCount', 'avgDeathsPerYear', 'incidenceRate', 'medIncome',\n",
              "       'popEst2015', 'povertyPercent', 'AvgHouseholdSize', 'PctHS25_Over',\n",
              "       'PctBachDeg25_Over', 'PctUnemployed16_Over', 'PctPrivateCoverage',\n",
              "       'PctPublicCoverageAlone', 'PctBlack', 'PctOtherRace',\n",
              "       'PctMarriedHouseholds'],\n",
              "      dtype='object')"
            ]
          },
          "metadata": {},
          "execution_count": 166
        }
      ],
      "source": [
        "rfe_cols = X.columns[rfe.support_]\n",
        "rfe_cols"
      ]
    },
    {
      "cell_type": "code",
      "execution_count": 167,
      "metadata": {
        "id": "gjBLYHg4AY2q"
      },
      "outputs": [],
      "source": [
        "x_new_df=X[rfe_cols]"
      ]
    },
    {
      "cell_type": "code",
      "execution_count": 168,
      "metadata": {
        "id": "0dNYsqhbAdoL"
      },
      "outputs": [],
      "source": [
        "X_train,X_test,y_train,y_test=train_test_split(x_new_df,Y,test_size=0.35,random_state=45)"
      ]
    },
    {
      "cell_type": "markdown",
      "source": [
        "### Tring Different algorithms with RFE"
      ],
      "metadata": {
        "id": "qXKzMeIjxei8"
      }
    },
    {
      "cell_type": "code",
      "execution_count": 169,
      "metadata": {
        "id": "YOvX7oz8AmQu",
        "colab": {
          "base_uri": "https://localhost:8080/"
        },
        "outputId": "e9520044-3719-43fa-8adf-a17d56080ccd"
      },
      "outputs": [
        {
          "output_type": "stream",
          "name": "stdout",
          "text": [
            "Test set evaluation:\n",
            "_____________________________________\n",
            "MAE: 14.321778392625749\n",
            "MSE: 355.8634736510954\n",
            "RMSE: 18.8643439761656\n",
            "R2 Square 0.49228688338564464\n",
            "====================================\n",
            "Train set evaluation:\n",
            "_____________________________________\n",
            "MAE: 14.118330928673869\n",
            "MSE: 343.3974853977707\n",
            "RMSE: 18.530987167384545\n",
            "R2 Square 0.4723536051906737\n"
          ]
        }
      ],
      "source": [
        "LR=LinearRegression()\n",
        "LR.fit(X_train,y_train)\n",
        "y_pred_lr=LR.predict(X_test)\n",
        "test_pred = LR.predict(X_test)\n",
        "train_pred = LR.predict(X_train)\n",
        "\n",
        "print('Test set evaluation:\\n_____________________________________')\n",
        "print_evaluate(y_test, test_pred)\n",
        "print('====================================')\n",
        "print('Train set evaluation:\\n_____________________________________')\n",
        "print_evaluate(y_train, train_pred)"
      ]
    },
    {
      "cell_type": "code",
      "source": [
        "RF=RandomForestRegressor()\n",
        "RF.fit(X_train,y_train)\n",
        "train_pred= RF.predict(X_train)\n",
        "y_pred_lr=RF.predict(X_test)\n",
        "\n",
        "print('Test set evaluation:\\n_____________________________________')\n",
        "print_evaluate(y_test, y_pred_lr)\n",
        "print('====================================')\n",
        "print('Train set evaluation:\\n_____________________________________')\n",
        "print_evaluate(y_train, train_pred)"
      ],
      "metadata": {
        "id": "MW9oxM_KN0yb",
        "colab": {
          "base_uri": "https://localhost:8080/"
        },
        "outputId": "7616ac52-5fee-4072-c06d-e1b2710c6ed3"
      },
      "execution_count": 170,
      "outputs": [
        {
          "output_type": "stream",
          "name": "stdout",
          "text": [
            "Test set evaluation:\n",
            "_____________________________________\n",
            "MAE: 13.451495247148287\n",
            "MSE: 321.6044752576045\n",
            "RMSE: 17.933334192436288\n",
            "R2 Square 0.5411644562030758\n",
            "====================================\n",
            "Train set evaluation:\n",
            "_____________________________________\n",
            "MAE: 4.870814036885241\n",
            "MSE: 42.30282706711056\n",
            "RMSE: 6.504062351108772\n",
            "R2 Square 0.9349997156608527\n"
          ]
        }
      ]
    },
    {
      "cell_type": "markdown",
      "source": [
        "### Hyperparamter Tunning"
      ],
      "metadata": {
        "id": "GRgn-5NwxnPS"
      }
    },
    {
      "cell_type": "code",
      "source": [
        " n_folds=5\n",
        " param_grid = { \n",
        "            \"n_estimators\"      : [10,20,30],\n",
        "            \"max_features\"      : [\"auto\", \"sqrt\", \"log2\"],\n",
        "            \"min_samples_split\" : [2,4,8],\n",
        "            \"bootstrap\": [True, False],\n",
        "            }\n",
        "grid = GridSearchCV(estimator=RF, param_grid=param_grid, n_jobs=-1, cv=n_folds)\n",
        "grid.fit(X_train,y_train)\n",
        "grid.best_params_"
      ],
      "metadata": {
        "id": "e0C9w6WdN02P",
        "colab": {
          "base_uri": "https://localhost:8080/"
        },
        "outputId": "6dd88899-8928-454f-c4b1-ccd8e342317c"
      },
      "execution_count": 171,
      "outputs": [
        {
          "output_type": "execute_result",
          "data": {
            "text/plain": [
              "{'bootstrap': False,\n",
              " 'max_features': 'log2',\n",
              " 'min_samples_split': 8,\n",
              " 'n_estimators': 30}"
            ]
          },
          "metadata": {},
          "execution_count": 171
        }
      ]
    },
    {
      "cell_type": "code",
      "source": [
        "grid_rf=RandomForestRegressor(bootstrap= False,\n",
        " max_features='log2',\n",
        " min_samples_split= 8,\n",
        " n_estimators= 30)\n",
        "grid_rf.fit(X_train,y_train)\n",
        "y_pred_grid_rf=grid_rf.predict(X_test)\n",
        "train_pred = grid_rf.predict(X_train)\n",
        "\n",
        "\n",
        "print('Test set evaluation:\\n_____________________________________')\n",
        "print_evaluate(y_test, y_pred_grid_rf)\n",
        "print('====================================')\n",
        "print('Train set evaluation:\\n_____________________________________')\n",
        "print_evaluate(y_train, train_pred)"
      ],
      "metadata": {
        "id": "_lMrkKlqN05F",
        "colab": {
          "base_uri": "https://localhost:8080/"
        },
        "outputId": "218f0332-461f-4133-c104-c99732aa738b"
      },
      "execution_count": 207,
      "outputs": [
        {
          "output_type": "stream",
          "name": "stderr",
          "text": [
            "/usr/local/lib/python3.7/dist-packages/ipykernel_launcher.py:5: DataConversionWarning: A column-vector y was passed when a 1d array was expected. Please change the shape of y to (n_samples,), for example using ravel().\n",
            "  \"\"\"\n"
          ]
        },
        {
          "output_type": "stream",
          "name": "stdout",
          "text": [
            "Test set evaluation:\n",
            "_____________________________________\n",
            "MAE: 0.5248630630606732\n",
            "MSE: 0.4758676563318501\n",
            "RMSE: 0.6898316144769316\n",
            "R2 Square 0.5180183191872768\n",
            "====================================\n",
            "Train set evaluation:\n",
            "_____________________________________\n",
            "MAE: 0.11426227080953837\n",
            "MSE: 0.025226939267403187\n",
            "RMSE: 0.15882990671596828\n",
            "R2 Square 0.9749041185854889\n"
          ]
        }
      ]
    },
    {
      "cell_type": "code",
      "source": [
        "xgb=XGBRegressor(random_state=5)\n",
        "xgb.fit(X_train,y_train) \n",
        "final=xgb.predict(X_test)\n",
        "train_pred = xgb.predict(X_train)\n",
        "\n",
        "print('Test set evaluation:\\n_____________________________________')\n",
        "print_evaluate(y_test, final)\n",
        "print('====================================')\n",
        "print('Train set evaluation:\\n_____________________________________')\n",
        "print_evaluate(y_train, train_pred)"
      ],
      "metadata": {
        "id": "oRYInmHgN08_",
        "colab": {
          "base_uri": "https://localhost:8080/"
        },
        "outputId": "8de6b167-d89a-4094-8950-30601ba3fe4d"
      },
      "execution_count": 173,
      "outputs": [
        {
          "output_type": "stream",
          "name": "stdout",
          "text": [
            "[04:53:04] WARNING: /workspace/src/objective/regression_obj.cu:152: reg:linear is now deprecated in favor of reg:squarederror.\n",
            "Test set evaluation:\n",
            "_____________________________________\n",
            "MAE: 12.669216905891215\n",
            "MSE: 283.33850414288264\n",
            "RMSE: 16.832661825833807\n",
            "R2 Square 0.5957588073895046\n",
            "====================================\n",
            "Train set evaluation:\n",
            "_____________________________________\n",
            "MAE: 9.990936441108829\n",
            "MSE: 168.5648110104904\n",
            "RMSE: 12.983251172587334\n",
            "R2 Square 0.7409922361010449\n"
          ]
        }
      ]
    },
    {
      "cell_type": "code",
      "source": [
        "linear=LinearSVR()\n",
        "linear.fit(X_train,y_train)\n",
        "y_pred_linear=linear.predict(X_test)\n",
        "\n",
        "print('Test set evaluation:\\n_____________________________________')\n",
        "print_evaluate(y_test, y_pred_linear)\n",
        "print('====================================')\n",
        "print('Train set evaluation:\\n_____________________________________')\n",
        "print_evaluate(y_train, train_pred)"
      ],
      "metadata": {
        "id": "KIUWNZiUN0_s",
        "colab": {
          "base_uri": "https://localhost:8080/"
        },
        "outputId": "e6b35a8f-3ac2-414d-e71d-e6db4490828a"
      },
      "execution_count": 174,
      "outputs": [
        {
          "output_type": "stream",
          "name": "stdout",
          "text": [
            "Test set evaluation:\n",
            "_____________________________________\n",
            "MAE: 41.688038415808485\n",
            "MSE: 9028.414195256064\n",
            "RMSE: 95.01796774955811\n",
            "R2 Square -11.880907001017338\n",
            "====================================\n",
            "Train set evaluation:\n",
            "_____________________________________\n",
            "MAE: 9.990936441108829\n",
            "MSE: 168.5648110104904\n",
            "RMSE: 12.983251172587334\n",
            "R2 Square 0.7409922361010449\n"
          ]
        },
        {
          "output_type": "stream",
          "name": "stderr",
          "text": [
            "/usr/local/lib/python3.7/dist-packages/sklearn/svm/_base.py:1208: ConvergenceWarning: Liblinear failed to converge, increase the number of iterations.\n",
            "  ConvergenceWarning,\n"
          ]
        }
      ]
    },
    {
      "cell_type": "markdown",
      "source": [
        "### Optimisation with RFE Data"
      ],
      "metadata": {
        "id": "qpVcAmMExtOr"
      }
    },
    {
      "cell_type": "code",
      "source": [
        "reg = make_pipeline(StandardScaler(),SGDRegressor(max_iter=1000, tol=1e-3))\n",
        "reg.fit(X_train, y_train)\n",
        "pred=reg.predict(X_test)\n",
        "print('Test set evaluation:\\n_____________________________________')\n",
        "print_evaluate(y_test, pred)\n",
        "print('====================================')\n",
        "print('Train set evaluation:\\n_____________________________________')\n",
        "print_evaluate(y_train, train_pred)"
      ],
      "metadata": {
        "id": "hgOOEO6UN1Dc",
        "colab": {
          "base_uri": "https://localhost:8080/"
        },
        "outputId": "1c4b58fa-7bf2-4f4f-d044-d248e7e273c8"
      },
      "execution_count": 175,
      "outputs": [
        {
          "output_type": "stream",
          "name": "stdout",
          "text": [
            "Test set evaluation:\n",
            "_____________________________________\n",
            "MAE: 14.29708176699189\n",
            "MSE: 355.16787356348993\n",
            "RMSE: 18.845898056698967\n",
            "R2 Square 0.49327930130584297\n",
            "====================================\n",
            "Train set evaluation:\n",
            "_____________________________________\n",
            "MAE: 9.990936441108829\n",
            "MSE: 168.5648110104904\n",
            "RMSE: 12.983251172587334\n",
            "R2 Square 0.7409922361010449\n"
          ]
        }
      ]
    },
    {
      "cell_type": "markdown",
      "source": [
        "### Checking for Multicolinearity"
      ],
      "metadata": {
        "id": "HFRr4KJrx6Hb"
      }
    },
    {
      "cell_type": "code",
      "source": [
        "sns.set(rc = {'figure.figsize':(15,8)})\n",
        "sns.heatmap(x_new_df.corr(),annot=True)"
      ],
      "metadata": {
        "id": "3vDGvOJWN1dF",
        "colab": {
          "base_uri": "https://localhost:8080/",
          "height": 630
        },
        "outputId": "751b673f-b66a-4978-c227-82a2c8b71bfe"
      },
      "execution_count": 176,
      "outputs": [
        {
          "output_type": "execute_result",
          "data": {
            "text/plain": [
              "<matplotlib.axes._subplots.AxesSubplot at 0x7f3b0ce75790>"
            ]
          },
          "metadata": {},
          "execution_count": 176
        },
        {
          "output_type": "display_data",
          "data": {
            "image/png": "[encoded data removed]",
            "text/plain": [
              "<Figure size 1080x576 with 2 Axes>"
            ]
          },
          "metadata": {}
        }
      ]
    },
    {
      "cell_type": "markdown",
      "source": [
        "### VIF-Variation Inflation Factor\n",
        "as ypu can see from above heatmap there is multicolinearity in the data,to remove multicollinearity we are going to use VIF."
      ],
      "metadata": {
        "id": "QckxqVsPztzy"
      }
    },
    {
      "cell_type": "code",
      "execution_count": 177,
      "metadata": {
        "id": "v25ZQArZAshF",
        "colab": {
          "base_uri": "https://localhost:8080/"
        },
        "outputId": "1c88092d-ee01-4d6c-b8cb-018ac1853986"
      },
      "outputs": [
        {
          "output_type": "stream",
          "name": "stderr",
          "text": [
            "/usr/local/lib/python3.7/dist-packages/statsmodels/tools/_testing.py:19: FutureWarning: pandas.util.testing is deprecated. Use the functions in the public API at pandas.testing instead.\n",
            "  import pandas.util.testing as tm\n"
          ]
        }
      ],
      "source": [
        "from statsmodels.stats.outliers_influence import variance_inflation_factor\n",
        "vif=pd.DataFrame()\n",
        "vif['Feature name']=X_scale.columns\n",
        "vif['VIF']=[variance_inflation_factor(X_scale.values, i) for i in range(X_scale.shape[1])]"
      ]
    },
    {
      "cell_type": "code",
      "execution_count": 178,
      "metadata": {
        "colab": {
          "base_uri": "https://localhost:8080/",
          "height": 1000
        },
        "id": "wX01b27yYc_S",
        "outputId": "2db1ab57-e453-497f-ec67-83fec3ef96d6"
      },
      "outputs": [
        {
          "output_type": "execute_result",
          "data": {
            "text/html": [
              "\n",
              "  <div id=\"df-fcd8c248-f6d8-42d7-bf5a-2d6d55c23415\">\n",
              "    <div class=\"colab-df-container\">\n",
              "      <div>\n",
              "<style scoped>\n",
              "    .dataframe tbody tr th:only-of-type {\n",
              "        vertical-align: middle;\n",
              "    }\n",
              "\n",
              "    .dataframe tbody tr th {\n",
              "        vertical-align: top;\n",
              "    }\n",
              "\n",
              "    .dataframe thead th {\n",
              "        text-align: right;\n",
              "    }\n",
              "</style>\n",
              "<table border=\"1\" class=\"dataframe\">\n",
              "  <thead>\n",
              "    <tr style=\"text-align: right;\">\n",
              "      <th></th>\n",
              "      <th>Feature name</th>\n",
              "      <th>VIF</th>\n",
              "    </tr>\n",
              "  </thead>\n",
              "  <tbody>\n",
              "    <tr>\n",
              "      <th>0</th>\n",
              "      <td>avgAnnCount</td>\n",
              "      <td>9.957731</td>\n",
              "    </tr>\n",
              "    <tr>\n",
              "      <th>1</th>\n",
              "      <td>avgDeathsPerYear</td>\n",
              "      <td>31.740232</td>\n",
              "    </tr>\n",
              "    <tr>\n",
              "      <th>2</th>\n",
              "      <td>incidenceRate</td>\n",
              "      <td>1.287817</td>\n",
              "    </tr>\n",
              "    <tr>\n",
              "      <th>3</th>\n",
              "      <td>medIncome</td>\n",
              "      <td>7.699701</td>\n",
              "    </tr>\n",
              "    <tr>\n",
              "      <th>4</th>\n",
              "      <td>popEst2015</td>\n",
              "      <td>26.481211</td>\n",
              "    </tr>\n",
              "    <tr>\n",
              "      <th>5</th>\n",
              "      <td>povertyPercent</td>\n",
              "      <td>8.739489</td>\n",
              "    </tr>\n",
              "    <tr>\n",
              "      <th>6</th>\n",
              "      <td>studyPerCap</td>\n",
              "      <td>1.052110</td>\n",
              "    </tr>\n",
              "    <tr>\n",
              "      <th>7</th>\n",
              "      <td>MedianAge</td>\n",
              "      <td>1.025349</td>\n",
              "    </tr>\n",
              "    <tr>\n",
              "      <th>8</th>\n",
              "      <td>MedianAgeMale</td>\n",
              "      <td>9.899136</td>\n",
              "    </tr>\n",
              "    <tr>\n",
              "      <th>9</th>\n",
              "      <td>MedianAgeFemale</td>\n",
              "      <td>10.887188</td>\n",
              "    </tr>\n",
              "    <tr>\n",
              "      <th>10</th>\n",
              "      <td>AvgHouseholdSize</td>\n",
              "      <td>1.377753</td>\n",
              "    </tr>\n",
              "    <tr>\n",
              "      <th>11</th>\n",
              "      <td>PercentMarried</td>\n",
              "      <td>10.950320</td>\n",
              "    </tr>\n",
              "    <tr>\n",
              "      <th>12</th>\n",
              "      <td>PctNoHS18_24</td>\n",
              "      <td>1.757385</td>\n",
              "    </tr>\n",
              "    <tr>\n",
              "      <th>13</th>\n",
              "      <td>PctHS18_24</td>\n",
              "      <td>1.726856</td>\n",
              "    </tr>\n",
              "    <tr>\n",
              "      <th>14</th>\n",
              "      <td>PctSomeCol18_24</td>\n",
              "      <td>1.140142</td>\n",
              "    </tr>\n",
              "    <tr>\n",
              "      <th>15</th>\n",
              "      <td>PctBachDeg18_24</td>\n",
              "      <td>1.965705</td>\n",
              "    </tr>\n",
              "    <tr>\n",
              "      <th>16</th>\n",
              "      <td>PctHS25_Over</td>\n",
              "      <td>3.815810</td>\n",
              "    </tr>\n",
              "    <tr>\n",
              "      <th>17</th>\n",
              "      <td>PctBachDeg25_Over</td>\n",
              "      <td>5.618864</td>\n",
              "    </tr>\n",
              "    <tr>\n",
              "      <th>18</th>\n",
              "      <td>PctEmployed16_Over</td>\n",
              "      <td>5.272639</td>\n",
              "    </tr>\n",
              "    <tr>\n",
              "      <th>19</th>\n",
              "      <td>PctUnemployed16_Over</td>\n",
              "      <td>2.663112</td>\n",
              "    </tr>\n",
              "    <tr>\n",
              "      <th>20</th>\n",
              "      <td>PctPrivateCoverage</td>\n",
              "      <td>17.091377</td>\n",
              "    </tr>\n",
              "    <tr>\n",
              "      <th>21</th>\n",
              "      <td>PctPrivateCoverageAlone</td>\n",
              "      <td>3.916631</td>\n",
              "    </tr>\n",
              "    <tr>\n",
              "      <th>22</th>\n",
              "      <td>PctEmpPrivCoverage</td>\n",
              "      <td>7.816152</td>\n",
              "    </tr>\n",
              "    <tr>\n",
              "      <th>23</th>\n",
              "      <td>PctPublicCoverage</td>\n",
              "      <td>25.879534</td>\n",
              "    </tr>\n",
              "    <tr>\n",
              "      <th>24</th>\n",
              "      <td>PctPublicCoverageAlone</td>\n",
              "      <td>23.637345</td>\n",
              "    </tr>\n",
              "    <tr>\n",
              "      <th>25</th>\n",
              "      <td>PctWhite</td>\n",
              "      <td>7.379755</td>\n",
              "    </tr>\n",
              "    <tr>\n",
              "      <th>26</th>\n",
              "      <td>PctBlack</td>\n",
              "      <td>5.493516</td>\n",
              "    </tr>\n",
              "    <tr>\n",
              "      <th>27</th>\n",
              "      <td>PctAsian</td>\n",
              "      <td>1.998769</td>\n",
              "    </tr>\n",
              "    <tr>\n",
              "      <th>28</th>\n",
              "      <td>PctOtherRace</td>\n",
              "      <td>1.576930</td>\n",
              "    </tr>\n",
              "    <tr>\n",
              "      <th>29</th>\n",
              "      <td>PctMarriedHouseholds</td>\n",
              "      <td>9.054873</td>\n",
              "    </tr>\n",
              "    <tr>\n",
              "      <th>30</th>\n",
              "      <td>BirthRate</td>\n",
              "      <td>1.201388</td>\n",
              "    </tr>\n",
              "  </tbody>\n",
              "</table>\n",
              "</div>\n",
              "      <button class=\"colab-df-convert\" onclick=\"convertToInteractive('df-fcd8c248-f6d8-42d7-bf5a-2d6d55c23415')\"\n",
              "              title=\"Convert this dataframe to an interactive table.\"\n",
              "              style=\"display:none;\">\n",
              "        \n",
              "  <svg xmlns=\"http://www.w3.org/2000/svg\" height=\"24px\"viewBox=\"0 0 24 24\"\n",
              "       width=\"24px\">\n",
              "    <path d=\"M0 0h24v24H0V0z\" fill=\"none\"/>\n",
              "    <path d=\"M18.56 5.44l.94 2.06.94-2.06 2.06-.94-2.06-.94-.94-2.06-.94 2.06-2.06.94zm-11 1L8.5 8.5l.94-2.06 2.06-.94-2.06-.94L8.5 2.5l-.94 2.06-2.06.94zm10 10l.94 2.06.94-2.06 2.06-.94-2.06-.94-.94-2.06-.94 2.06-2.06.94z\"/><path d=\"M17.41 7.96l-1.37-1.37c-.4-.4-.92-.59-1.43-.59-.52 0-1.04.2-1.43.59L10.3 9.45l-7.72 7.72c-.78.78-.78 2.05 0 2.83L4 21.41c.39.39.9.59 1.41.59.51 0 1.02-.2 1.41-.59l7.78-7.78 2.81-2.81c.8-.78.8-2.07 0-2.86zM5.41 20L4 18.59l7.72-7.72 1.47 1.35L5.41 20z\"/>\n",
              "  </svg>\n",
              "      </button>\n",
              "      \n",
              "  <style>\n",
              "    .colab-df-container {\n",
              "      display:flex;\n",
              "      flex-wrap:wrap;\n",
              "      gap: 12px;\n",
              "    }\n",
              "\n",
              "    .colab-df-convert {\n",
              "      background-color: #E8F0FE;\n",
              "      border: none;\n",
              "      border-radius: 50%;\n",
              "      cursor: pointer;\n",
              "      display: none;\n",
              "      fill: #1967D2;\n",
              "      height: 32px;\n",
              "      padding: 0 0 0 0;\n",
              "      width: 32px;\n",
              "    }\n",
              "\n",
              "    .colab-df-convert:hover {\n",
              "      background-color: #E2EBFA;\n",
              "      box-shadow: 0px 1px 2px rgba(60, 64, 67, 0.3), 0px 1px 3px 1px rgba(60, 64, 67, 0.15);\n",
              "      fill: #174EA6;\n",
              "    }\n",
              "\n",
              "    [theme=dark] .colab-df-convert {\n",
              "      background-color: #3B4455;\n",
              "      fill: #D2E3FC;\n",
              "    }\n",
              "\n",
              "    [theme=dark] .colab-df-convert:hover {\n",
              "      background-color: #434B5C;\n",
              "      box-shadow: 0px 1px 3px 1px rgba(0, 0, 0, 0.15);\n",
              "      filter: drop-shadow(0px 1px 2px rgba(0, 0, 0, 0.3));\n",
              "      fill: #FFFFFF;\n",
              "    }\n",
              "  </style>\n",
              "\n",
              "      <script>\n",
              "        const buttonEl =\n",
              "          document.querySelector('#df-fcd8c248-f6d8-42d7-bf5a-2d6d55c23415 button.colab-df-convert');\n",
              "        buttonEl.style.display =\n",
              "          google.colab.kernel.accessAllowed ? 'block' : 'none';\n",
              "\n",
              "        async function convertToInteractive(key) {\n",
              "          const element = document.querySelector('#df-fcd8c248-f6d8-42d7-bf5a-2d6d55c23415');\n",
              "          const dataTable =\n",
              "            await google.colab.kernel.invokeFunction('convertToInteractive',\n",
              "                                                     [key], {});\n",
              "          if (!dataTable) return;\n",
              "\n",
              "          const docLinkHtml = 'Like what you see? Visit the ' +\n",
              "            '<a target=\"_blank\" href=https://colab.research.google.com/notebooks/data_table.ipynb>data table notebook</a>'\n",
              "            + ' to learn more about interactive tables.';\n",
              "          element.innerHTML = '';\n",
              "          dataTable['output_type'] = 'display_data';\n",
              "          await google.colab.output.renderOutput(dataTable, element);\n",
              "          const docLink = document.createElement('div');\n",
              "          docLink.innerHTML = docLinkHtml;\n",
              "          element.appendChild(docLink);\n",
              "        }\n",
              "      </script>\n",
              "    </div>\n",
              "  </div>\n",
              "  "
            ],
            "text/plain": [
              "               Feature name        VIF\n",
              "0               avgAnnCount   9.957731\n",
              "1          avgDeathsPerYear  31.740232\n",
              "2             incidenceRate   1.287817\n",
              "3                 medIncome   7.699701\n",
              "4                popEst2015  26.481211\n",
              "5            povertyPercent   8.739489\n",
              "6               studyPerCap   1.052110\n",
              "7                 MedianAge   1.025349\n",
              "8             MedianAgeMale   9.899136\n",
              "9           MedianAgeFemale  10.887188\n",
              "10         AvgHouseholdSize   1.377753\n",
              "11           PercentMarried  10.950320\n",
              "12             PctNoHS18_24   1.757385\n",
              "13               PctHS18_24   1.726856\n",
              "14          PctSomeCol18_24   1.140142\n",
              "15          PctBachDeg18_24   1.965705\n",
              "16             PctHS25_Over   3.815810\n",
              "17        PctBachDeg25_Over   5.618864\n",
              "18       PctEmployed16_Over   5.272639\n",
              "19     PctUnemployed16_Over   2.663112\n",
              "20       PctPrivateCoverage  17.091377\n",
              "21  PctPrivateCoverageAlone   3.916631\n",
              "22       PctEmpPrivCoverage   7.816152\n",
              "23        PctPublicCoverage  25.879534\n",
              "24   PctPublicCoverageAlone  23.637345\n",
              "25                 PctWhite   7.379755\n",
              "26                 PctBlack   5.493516\n",
              "27                 PctAsian   1.998769\n",
              "28             PctOtherRace   1.576930\n",
              "29     PctMarriedHouseholds   9.054873\n",
              "30                BirthRate   1.201388"
            ]
          },
          "metadata": {},
          "execution_count": 178
        }
      ],
      "source": [
        "vif"
      ]
    },
    {
      "cell_type": "code",
      "execution_count": 179,
      "metadata": {
        "id": "YsvJSHQYB821"
      },
      "outputs": [],
      "source": [
        "remove=[]\n",
        "for i in range(len(vif)):\n",
        "  if vif['VIF'][i]>10:\n",
        "    remove.append(vif['Feature name'][i])"
      ]
    },
    {
      "cell_type": "code",
      "execution_count": 180,
      "metadata": {
        "id": "iJ_LZngFDIAJ"
      },
      "outputs": [],
      "source": [
        "X=X.drop(remove, axis=1)"
      ]
    },
    {
      "cell_type": "code",
      "execution_count": 181,
      "metadata": {
        "colab": {
          "base_uri": "https://localhost:8080/"
        },
        "id": "LyO6nms5Dzwa",
        "outputId": "f349cf6d-1370-4054-d020-7b1ddab84180"
      },
      "outputs": [
        {
          "output_type": "stream",
          "name": "stdout",
          "text": [
            "Test set evaluation:\n",
            "_____________________________________\n",
            "MAE: 14.164444541627212\n",
            "MSE: 352.9150549391502\n",
            "RMSE: 18.786033507346627\n",
            "R2 Square 0.49649341472185426\n",
            "====================================\n",
            "Train set evaluation:\n",
            "_____________________________________\n",
            "MAE: 14.102661534819642\n",
            "MSE: 343.77562551855175\n",
            "RMSE: 18.54118727370369\n",
            "R2 Square 0.4717725751017907\n"
          ]
        }
      ],
      "source": [
        "X_train,X_test,y_train,y_test=train_test_split(X,Y,test_size=0.35,random_state=45)\n",
        "\n",
        "LR=LinearRegression()\n",
        "LR.fit(X_train,y_train)\n",
        "y_pred_lr=LR.predict(X_test)\n",
        "test_pred = LR.predict(X_test)\n",
        "train_pred = LR.predict(X_train)\n",
        "\n",
        "print('Test set evaluation:\\n_____________________________________')\n",
        "print_evaluate(y_test, test_pred)\n",
        "print('====================================')\n",
        "print('Train set evaluation:\\n_____________________________________')\n",
        "print_evaluate(y_train, train_pred)"
      ]
    },
    {
      "cell_type": "code",
      "execution_count": 182,
      "metadata": {
        "colab": {
          "base_uri": "https://localhost:8080/"
        },
        "id": "CsWyvQKUD8Zy",
        "outputId": "d1d6177d-24f6-4364-f79b-2bc76d694619"
      },
      "outputs": [
        {
          "output_type": "stream",
          "name": "stdout",
          "text": [
            "Test set evaluation:\n",
            "_____________________________________\n",
            "MAE: 13.8817252851711\n",
            "MSE: 345.94851907129265\n",
            "RMSE: 18.599691370323665\n",
            "R2 Square 0.5064326242765373\n",
            "====================================\n",
            "Train set evaluation:\n",
            "_____________________________________\n",
            "MAE: 5.140065061475404\n",
            "MSE: 47.31491049026631\n",
            "RMSE: 6.878583465384883\n",
            "R2 Square 0.9272984136386543\n"
          ]
        }
      ],
      "source": [
        "from sklearn.ensemble import RandomForestRegressor\n",
        "RF=RandomForestRegressor()\n",
        "RF.fit(X_train,y_train)\n",
        "train_pred = RF.predict(X_train)\n",
        "y_pred_lr=RF.predict(X_test)\n",
        "\n",
        "print('Test set evaluation:\\n_____________________________________')\n",
        "print_evaluate(y_test, y_pred_lr)\n",
        "print('====================================')\n",
        "print('Train set evaluation:\\n_____________________________________')\n",
        "print_evaluate(y_train, train_pred)\n"
      ]
    },
    {
      "cell_type": "markdown",
      "source": [
        "### Hyperparameter with VIF"
      ],
      "metadata": {
        "id": "BghnWPEz0L-T"
      }
    },
    {
      "cell_type": "code",
      "execution_count": 183,
      "metadata": {
        "colab": {
          "base_uri": "https://localhost:8080/"
        },
        "id": "gvtXEqKWE0vw",
        "outputId": "9c2ff020-1bf2-4fa1-e3a8-adb8035acb4a"
      },
      "outputs": [
        {
          "output_type": "execute_result",
          "data": {
            "text/plain": [
              "{'bootstrap': False,\n",
              " 'max_features': 'sqrt',\n",
              " 'min_samples_split': 4,\n",
              " 'n_estimators': 30}"
            ]
          },
          "metadata": {},
          "execution_count": 183
        }
      ],
      "source": [
        " n_folds=5\n",
        " param_grid = { \n",
        "            \"n_estimators\"      : [10,20,30],\n",
        "            \"max_features\"      : [\"auto\", \"sqrt\", \"log2\"],\n",
        "            \"min_samples_split\" : [2,4,8],\n",
        "            \"bootstrap\": [True, False],\n",
        "            }\n",
        "grid = GridSearchCV(estimator=RF, param_grid=param_grid, n_jobs=-1, cv=n_folds)\n",
        "grid.fit(X_train,y_train)\n",
        "grid.best_params_"
      ]
    },
    {
      "cell_type": "code",
      "execution_count": 208,
      "metadata": {
        "id": "8rGdD6NlFi_W",
        "colab": {
          "base_uri": "https://localhost:8080/"
        },
        "outputId": "7a396388-7b5a-4a8f-cdfa-efa187fce3c5"
      },
      "outputs": [
        {
          "output_type": "stream",
          "name": "stderr",
          "text": [
            "/usr/local/lib/python3.7/dist-packages/ipykernel_launcher.py:2: DataConversionWarning: A column-vector y was passed when a 1d array was expected. Please change the shape of y to (n_samples,), for example using ravel().\n",
            "  \n"
          ]
        },
        {
          "output_type": "stream",
          "name": "stdout",
          "text": [
            "Test set evaluation:\n",
            "_____________________________________\n",
            "MAE: 0.519080040215109\n",
            "MSE: 0.47315733835420004\n",
            "RMSE: 0.6878643313577177\n",
            "R2 Square 0.5207634597679044\n",
            "====================================\n",
            "Train set evaluation:\n",
            "_____________________________________\n",
            "MAE: 0.034334678909172384\n",
            "MSE: 0.0026929063786751365\n",
            "RMSE: 0.05189322093178585\n",
            "R2 Square 0.9973210836866391\n"
          ]
        }
      ],
      "source": [
        "grid_rf=RandomForestRegressor(bootstrap= False,max_features='sqrt',min_samples_split= 4,n_estimators= 30)\n",
        "grid_rf.fit(X_train,y_train)\n",
        "y_pred_grid_rf=grid_rf.predict(X_test)\n",
        "train_pred = grid_rf.predict(X_train)\n",
        "\n",
        "\n",
        "print('Test set evaluation:\\n_____________________________________')\n",
        "print_evaluate(y_test, y_pred_grid_rf)\n",
        "print('====================================')\n",
        "print('Train set evaluation:\\n_____________________________________')\n",
        "print_evaluate(y_train, train_pred)"
      ]
    },
    {
      "cell_type": "code",
      "execution_count": 185,
      "metadata": {
        "id": "aLxRmGJ-GJK3",
        "colab": {
          "base_uri": "https://localhost:8080/"
        },
        "outputId": "53ea93f7-dc9b-4b48-a72e-5fd2cfa59b81"
      },
      "outputs": [
        {
          "output_type": "stream",
          "name": "stdout",
          "text": [
            "Test set evaluation:\n",
            "_____________________________________\n",
            "MAE: 18.329120400509126\n",
            "MSE: 544.1716949712306\n",
            "RMSE: 23.327487969587096\n",
            "R2 Square 0.22362611595805337\n",
            "====================================\n",
            "Train set evaluation:\n",
            "_____________________________________\n",
            "MAE: 3.169715822599531\n",
            "MSE: 19.231818282953725\n",
            "RMSE: 4.3854097052560235\n",
            "R2 Square 0.970449406259122\n"
          ]
        },
        {
          "output_type": "stream",
          "name": "stderr",
          "text": [
            "/usr/local/lib/python3.7/dist-packages/sklearn/svm/_base.py:1208: ConvergenceWarning: Liblinear failed to converge, increase the number of iterations.\n",
            "  ConvergenceWarning,\n"
          ]
        }
      ],
      "source": [
        "linear=LinearSVR()\n",
        "linear.fit(X_train,y_train)\n",
        "y_pred_linear=linear.predict(X_test)\n",
        "\n",
        "print('Test set evaluation:\\n_____________________________________')\n",
        "print_evaluate(y_test, y_pred_linear)\n",
        "print('====================================')\n",
        "print('Train set evaluation:\\n_____________________________________')\n",
        "print_evaluate(y_train, train_pred)"
      ]
    },
    {
      "cell_type": "markdown",
      "source": [
        "###  SVR model Tunning with VIF data"
      ],
      "metadata": {
        "id": "1d7_a03Q0TVD"
      }
    },
    {
      "cell_type": "code",
      "source": [
        "K = 5              \n",
        "parameters = [{'kernel': ['rbf'], 'gamma': [1e-4, 1e-3, 0.01, 0.1, 0.2, 0.5, 0.6, 0.9],'C': [1, 10, 100, 1000, 10000]}]\n",
        "print(\"Tuning hyper-parameters\")\n",
        "svr = GridSearchCV(SVR(epsilon = 0.01), parameters, cv = K)\n",
        "svr.fit(X, Y)\n",
        "svr.best_params_"
      ],
      "metadata": {
        "colab": {
          "base_uri": "https://localhost:8080/"
        },
        "id": "Z5zEsV4BM-Dp",
        "outputId": "bd60faaf-0521-4c2a-f852-b4680e9c2c2f"
      },
      "execution_count": 186,
      "outputs": [
        {
          "output_type": "stream",
          "name": "stdout",
          "text": [
            "Tuning hyper-parameters\n"
          ]
        },
        {
          "output_type": "execute_result",
          "data": {
            "text/plain": [
              "{'C': 10, 'gamma': 0.0001, 'kernel': 'rbf'}"
            ]
          },
          "metadata": {},
          "execution_count": 186
        }
      ]
    },
    {
      "cell_type": "code",
      "source": [
        "grid_svr=SVR(C=1,gamma=0.0001,kernel='rbf')\n",
        "grid_svr.fit(X,Y)\n",
        "grid_svr_pred=grid_svr.predict(X_test)\n",
        "\n",
        "print('Test set evaluation:\\n_____________________________________')\n",
        "print_evaluate(y_test, grid_svr_pred)\n",
        "print('====================================')\n",
        "print('Train set evaluation:\\n_____________________________________')\n",
        "print_evaluate(y_train, train_pred)"
      ],
      "metadata": {
        "id": "Sr0zV0BIM-IR",
        "colab": {
          "base_uri": "https://localhost:8080/"
        },
        "outputId": "9d2558ff-e6d6-4caa-ae09-02b818dc3970"
      },
      "execution_count": 187,
      "outputs": [
        {
          "output_type": "stream",
          "name": "stdout",
          "text": [
            "Test set evaluation:\n",
            "_____________________________________\n",
            "MAE: 19.566881071153738\n",
            "MSE: 640.7166009911642\n",
            "RMSE: 25.312380389666323\n",
            "R2 Square 0.085884766373299\n",
            "====================================\n",
            "Train set evaluation:\n",
            "_____________________________________\n",
            "MAE: 3.169715822599531\n",
            "MSE: 19.231818282953725\n",
            "RMSE: 4.3854097052560235\n",
            "R2 Square 0.970449406259122\n"
          ]
        }
      ]
    },
    {
      "cell_type": "code",
      "execution_count": 188,
      "metadata": {
        "colab": {
          "base_uri": "https://localhost:8080/"
        },
        "id": "As3oHGyiIpKU",
        "outputId": "e6cece9d-0afd-4569-82c0-81b82c1d0b87"
      },
      "outputs": [
        {
          "output_type": "stream",
          "name": "stdout",
          "text": [
            "[04:56:30] WARNING: /workspace/src/objective/regression_obj.cu:152: reg:linear is now deprecated in favor of reg:squarederror.\n",
            "Test set evaluation:\n",
            "_____________________________________\n",
            "MAE: 13.54735890812747\n",
            "MSE: 331.52777917505944\n",
            "RMSE: 18.2079043048633\n",
            "R2 Square 0.527006803248836\n",
            "====================================\n",
            "Train set evaluation:\n",
            "_____________________________________\n",
            "MAE: 10.79727138613091\n",
            "MSE: 199.7235001583906\n",
            "RMSE: 14.132356497003272\n",
            "R2 Square 0.6931154440598043\n"
          ]
        }
      ],
      "source": [
        "xgb=XGBRegressor(random_state=5)\n",
        "xgb.fit(X_train,y_train)\n",
        "final=xgb.predict(X_test)\n",
        "train_pred = xgb.predict(X_train)\n",
        "\n",
        "print('Test set evaluation:\\n_____________________________________')\n",
        "print_evaluate(y_test, final)\n",
        "print('====================================')\n",
        "print('Train set evaluation:\\n_____________________________________')\n",
        "print_evaluate(y_train, train_pred)"
      ]
    },
    {
      "cell_type": "markdown",
      "source": [
        "### Optimisation with VIF data."
      ],
      "metadata": {
        "id": "3JomjzHQ0cOz"
      }
    },
    {
      "cell_type": "code",
      "source": [
        "reg = make_pipeline(StandardScaler(),SGDRegressor(max_iter=1000, tol=1e-3))\n",
        "reg.fit(X_train, y_train)\n",
        "pred=reg.predict(X_test)\n",
        "\n",
        "print('Test set evaluation:\\n_____________________________________')\n",
        "print_evaluate(y_test, pred)\n",
        "print('====================================')\n",
        "print('Train set evaluation:\\n_____________________________________')\n",
        "print_evaluate(y_train, train_pred)"
      ],
      "metadata": {
        "colab": {
          "base_uri": "https://localhost:8080/"
        },
        "id": "yr7jOlA9TDkB",
        "outputId": "f3657646-7e76-4509-acfa-699a77e7bb6e"
      },
      "execution_count": 189,
      "outputs": [
        {
          "output_type": "stream",
          "name": "stdout",
          "text": [
            "Test set evaluation:\n",
            "_____________________________________\n",
            "MAE: 14.104733017535942\n",
            "MSE: 352.401629853798\n",
            "RMSE: 18.77236345945278\n",
            "R2 Square 0.4972259221847801\n",
            "====================================\n",
            "Train set evaluation:\n",
            "_____________________________________\n",
            "MAE: 10.79727138613091\n",
            "MSE: 199.7235001583906\n",
            "RMSE: 14.132356497003272\n",
            "R2 Square 0.6931154440598043\n"
          ]
        }
      ]
    },
    {
      "cell_type": "markdown",
      "source": [
        "### Neural Network Regressor"
      ],
      "metadata": {
        "id": "N96fPel30ldC"
      }
    },
    {
      "cell_type": "code",
      "source": [
        "Y=np.array(Y).reshape(-1,1)\n",
        "\n",
        "TargetVariable=Y\n",
        "Predictors=X\n",
        "\n",
        "### Sandardization of data ###\n",
        "from sklearn.preprocessing import StandardScaler\n",
        "PredictorScaler=StandardScaler()\n",
        "TargetVarScaler=StandardScaler()\n",
        " \n",
        "# Storing the fit object for later reference\n",
        "PredictorScalerFit=PredictorScaler.fit(X)\n",
        "TargetVarScalerFit=TargetVarScaler.fit(Y)\n",
        " \n",
        "# Generating the standardized values of X and y\n",
        "xx=PredictorScalerFit.transform(X)\n",
        "yy=TargetVarScalerFit.transform(Y)\n",
        "# Split the data into training and testing set\n",
        "from sklearn.model_selection import train_test_split\n",
        "X_train, X_test, y_train, y_test = train_test_split(xx, yy, test_size=0.3, random_state=42)"
      ],
      "metadata": {
        "id": "Uw0TINjsVPsL"
      },
      "execution_count": 203,
      "outputs": []
    },
    {
      "cell_type": "code",
      "source": [
        " # create ANN model\n",
        "model = Sequential()\n",
        " \n",
        "# Defining the Input layer and FIRST hidden layer, both are same!\n",
        "model.add(Dense(units=5, input_dim=31, kernel_initializer='normal', activation='relu'))\n",
        " \n",
        "# Defining the Second layer of the model\n",
        "# after the first layer we don't have to specify input_dim as keras configure it automatically\n",
        "model.add(Dense(units=5, kernel_initializer='normal', activation='tanh'))\n",
        " \n",
        "# The output neuron is a single fully connected node \n",
        "# Since we will be predicting a single number\n",
        "model.add(Dense(1, kernel_initializer='normal'))\n",
        " \n",
        "# Compiling the model\n",
        "model.compile(loss='mean_squared_error', optimizer='adam')\n",
        " \n",
        "# Fitting the ANN to the Training set\n",
        "model.fit(X_train, y_train , epochs =20 , verbose=1)"
      ],
      "metadata": {
        "colab": {
          "base_uri": "https://localhost:8080/"
        },
        "id": "Na5jzdUoqPaA",
        "outputId": "8c4bf3dc-e433-4ecd-ee48-775333819e0b"
      },
      "execution_count": 204,
      "outputs": [
        {
          "output_type": "stream",
          "name": "stdout",
          "text": [
            "Epoch 1/20\n",
            "66/66 [==============================] - 0s 2ms/step - loss: 0.9800\n",
            "Epoch 2/20\n",
            "66/66 [==============================] - 0s 1ms/step - loss: 0.8057\n",
            "Epoch 3/20\n",
            "66/66 [==============================] - 0s 2ms/step - loss: 0.6675\n",
            "Epoch 4/20\n",
            "66/66 [==============================] - 0s 2ms/step - loss: 0.5891\n",
            "Epoch 5/20\n",
            "66/66 [==============================] - 0s 1ms/step - loss: 0.5448\n",
            "Epoch 6/20\n",
            "66/66 [==============================] - 0s 2ms/step - loss: 0.5297\n",
            "Epoch 7/20\n",
            "66/66 [==============================] - 0s 1ms/step - loss: 0.5204\n",
            "Epoch 8/20\n",
            "66/66 [==============================] - 0s 1ms/step - loss: 0.5138\n",
            "Epoch 9/20\n",
            "66/66 [==============================] - 0s 2ms/step - loss: 0.5076\n",
            "Epoch 10/20\n",
            "66/66 [==============================] - 0s 2ms/step - loss: 0.5053\n",
            "Epoch 11/20\n",
            "66/66 [==============================] - 0s 2ms/step - loss: 0.5007\n",
            "Epoch 12/20\n",
            "66/66 [==============================] - 0s 1ms/step - loss: 0.4962\n",
            "Epoch 13/20\n",
            "66/66 [==============================] - 0s 2ms/step - loss: 0.4935\n",
            "Epoch 14/20\n",
            "66/66 [==============================] - 0s 2ms/step - loss: 0.4933\n",
            "Epoch 15/20\n",
            "66/66 [==============================] - 0s 1ms/step - loss: 0.4895\n",
            "Epoch 16/20\n",
            "66/66 [==============================] - 0s 2ms/step - loss: 0.4886\n",
            "Epoch 17/20\n",
            "66/66 [==============================] - 0s 2ms/step - loss: 0.4847\n",
            "Epoch 18/20\n",
            "66/66 [==============================] - 0s 2ms/step - loss: 0.4845\n",
            "Epoch 19/20\n",
            "66/66 [==============================] - 0s 1ms/step - loss: 0.4817\n",
            "Epoch 20/20\n",
            "66/66 [==============================] - 0s 1ms/step - loss: 0.4789\n"
          ]
        },
        {
          "output_type": "execute_result",
          "data": {
            "text/plain": [
              "<keras.callbacks.History at 0x7f3b0b8782d0>"
            ]
          },
          "metadata": {},
          "execution_count": 204
        }
      ]
    },
    {
      "cell_type": "code",
      "source": [
        "pred=model.predict(X_test)"
      ],
      "metadata": {
        "id": "Fu7PE_mBqPb0"
      },
      "execution_count": 205,
      "outputs": []
    },
    {
      "cell_type": "code",
      "source": [
        "print('Test set evaluation:\\n_____________________________________')\n",
        "print_evaluate(y_test, pred)\n",
        "print('====================================')\n"
      ],
      "metadata": {
        "colab": {
          "base_uri": "https://localhost:8080/"
        },
        "id": "vefn_-oDqPd4",
        "outputId": "221c8abd-ee77-46ea-818b-9523e3ea7d61"
      },
      "execution_count": 206,
      "outputs": [
        {
          "output_type": "stream",
          "name": "stdout",
          "text": [
            "Test set evaluation:\n",
            "_____________________________________\n",
            "MAE: 0.5353955249718063\n",
            "MSE: 0.49910859704303956\n",
            "RMSE: 0.7064761829269545\n",
            "R2 Square 0.4944787751174097\n",
            "====================================\n"
          ]
        }
      ]
    },
    {
      "cell_type": "markdown",
      "source": [
        "# Conclusion: Highest Accuracy I got is 59.57% with XGBoost Regressor with RFE.\n",
        "\n"
      ],
      "metadata": {
        "id": "mKmPJo3g9wxe"
      }
    }
  ],
  "metadata": {
    "colab": {
      "collapsed_sections": [],
      "name": "let data confess.ipynb",
      "provenance": []
    },
    "kernelspec": {
      "display_name": "Python 3",
      "name": "python3"
    },
    "language_info": {
      "name": "python"
    }
  },
  "nbformat": 4,
  "nbformat_minor": 0
}